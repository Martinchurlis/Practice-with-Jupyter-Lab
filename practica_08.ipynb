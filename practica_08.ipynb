{
 "cells": [
  {
   "cell_type": "markdown",
   "id": "7d4a3431-bf2c-4aa1-9321-6420190cbced",
   "metadata": {},
   "source": [
    "## Matrices con Numpy ##"
   ]
  },
  {
   "cell_type": "markdown",
   "id": "e6109896-ec44-45b1-ac63-09f12547fd4d",
   "metadata": {},
   "source": [
    "NumPy significa Numeric Python, este es un paquete para cómputo cientifico. Y sirve para:\n",
    "- Utilizar vectores y matrices (*ndarray*)\n",
    "- Cálculos estadísticos y matemáticos"
   ]
  },
  {
   "cell_type": "markdown",
   "id": "42b9f8f7-8f24-4f2b-8b8e-8c3a291ece8b",
   "metadata": {},
   "source": [
    "Numpy array es un objeto de **matriz n-dimensional**. Tiene forma de filas y columnas, en la que tenemos varios elementos que están almacenados en sus respectivas ubicaciones. Se admite el mismo tipo de datos en un Array, por ejemplo, solo números o solo texto."
   ]
  },
  {
   "cell_type": "markdown",
   "id": "63778395-a2e3-4d82-a048-d693810cc502",
   "metadata": {},
   "source": [
    "**Propiedades:**"
   ]
  },
  {
   "cell_type": "markdown",
   "id": "c4b7fed0-ee63-485e-ac63-f761bf657c4c",
   "metadata": {},
   "source": [
    "-**Dimensión:** Nivel de profundidad.\n",
    "\n",
    "-**Shape:** Número de elementos de cada dimensión. \"Forma\" (filas,columnas)"
   ]
  },
  {
   "cell_type": "markdown",
   "id": "f3e15172-7bc1-4248-a54a-6d970873d155",
   "metadata": {},
   "source": [
    "Creamos estas matrices y vectores mediante el comando *np.array*."
   ]
  },
  {
   "cell_type": "code",
   "execution_count": 6,
   "id": "8a950c23-3370-4122-a2b2-b12c54753e33",
   "metadata": {},
   "outputs": [],
   "source": [
    "import numpy as np"
   ]
  },
  {
   "cell_type": "markdown",
   "id": "51cf408a-762c-40ef-9189-cb30edc03b0e",
   "metadata": {},
   "source": [
    "Podemos crear ndarray con listas o tuplas, la diferencia está en que una se podrá modificar y la otra no."
   ]
  },
  {
   "cell_type": "code",
   "execution_count": 3,
   "id": "dfb4d124-2f84-4e2e-beeb-5f093e8dc82a",
   "metadata": {},
   "outputs": [
    {
     "data": {
      "text/plain": [
       "array([1, 2, 3, 4])"
      ]
     },
     "execution_count": 3,
     "metadata": {},
     "output_type": "execute_result"
    }
   ],
   "source": [
    "# Crear ndarray con lista\n",
    "\n",
    "a = np.array([1,2,3,4])\n",
    "a"
   ]
  },
  {
   "cell_type": "code",
   "execution_count": 5,
   "id": "01ef96a7-fda2-44fa-89ec-e24cfcfadc89",
   "metadata": {},
   "outputs": [
    {
     "data": {
      "text/plain": [
       "1"
      ]
     },
     "execution_count": 5,
     "metadata": {},
     "output_type": "execute_result"
    }
   ],
   "source": [
    "#Este sería un array unidimensional\n",
    "a.ndim"
   ]
  },
  {
   "cell_type": "code",
   "execution_count": 8,
   "id": "6d192f20-82a5-4a8e-b769-2a6e3ce28d0f",
   "metadata": {},
   "outputs": [
    {
     "data": {
      "text/plain": [
       "array([1, 2, 3, 4])"
      ]
     },
     "execution_count": 8,
     "metadata": {},
     "output_type": "execute_result"
    }
   ],
   "source": [
    "#Crear ndarray con tupla\n",
    "b = np.array((1,2,3,4))\n",
    "b\n"
   ]
  },
  {
   "cell_type": "markdown",
   "id": "21870496-fc0a-4243-b5d4-f0f8c7094ca1",
   "metadata": {},
   "source": [
    "Podemos crear un array de 0 dimensiones."
   ]
  },
  {
   "cell_type": "code",
   "execution_count": 11,
   "id": "b209caf1-cc01-4552-86b3-0ad70f582a68",
   "metadata": {},
   "outputs": [
    {
     "data": {
      "text/plain": [
       "array(16)"
      ]
     },
     "execution_count": 11,
     "metadata": {},
     "output_type": "execute_result"
    }
   ],
   "source": [
    "# array de 0 dimensiones (punto)\n",
    "\n",
    "a0 = np.array(16)\n",
    "\n",
    "a0"
   ]
  },
  {
   "cell_type": "code",
   "execution_count": 10,
   "id": "a72a2460-2a8f-4e58-bc6b-ac1a9ce39e3b",
   "metadata": {},
   "outputs": [
    {
     "data": {
      "text/plain": [
       "0"
      ]
     },
     "execution_count": 10,
     "metadata": {},
     "output_type": "execute_result"
    }
   ],
   "source": [
    "a0.ndim"
   ]
  },
  {
   "cell_type": "markdown",
   "id": "e9e336f1-7469-4e1d-b0ea-ba5970bf7a64",
   "metadata": {},
   "source": [
    "Para crear un array de dos dimensiones hay que poner por cada fila una lista.\n"
   ]
  },
  {
   "cell_type": "code",
   "execution_count": 12,
   "id": "5282a281-5a1f-4c23-ae78-aca48ffd387a",
   "metadata": {},
   "outputs": [
    {
     "data": {
      "text/plain": [
       "array([[1, 2, 3],\n",
       "       [4, 5, 6]])"
      ]
     },
     "execution_count": 12,
     "metadata": {},
     "output_type": "execute_result"
    }
   ],
   "source": [
    "a2 = np.array([\n",
    "    [1,2,3],\n",
    "    [4,5,6]\n",
    "])\n",
    "\n",
    "a2"
   ]
  },
  {
   "cell_type": "code",
   "execution_count": 15,
   "id": "0b5b9876-a4bb-4eaf-868b-cb81c71f5487",
   "metadata": {},
   "outputs": [
    {
     "data": {
      "text/plain": [
       "2"
      ]
     },
     "execution_count": 15,
     "metadata": {},
     "output_type": "execute_result"
    }
   ],
   "source": [
    "a2.ndim"
   ]
  },
  {
   "cell_type": "code",
   "execution_count": 17,
   "id": "6dc36640-1d7f-4364-a35b-167d4a99e657",
   "metadata": {},
   "outputs": [
    {
     "data": {
      "text/plain": [
       "(2, 3)"
      ]
     },
     "execution_count": 17,
     "metadata": {},
     "output_type": "execute_result"
    }
   ],
   "source": [
    "a2.shape # Dos filas y tres columnas"
   ]
  },
  {
   "cell_type": "code",
   "execution_count": 20,
   "id": "431810f9-4d69-445b-9e7b-cdd48521c9cb",
   "metadata": {},
   "outputs": [
    {
     "data": {
      "text/plain": [
       "array([[1, 2, 3],\n",
       "       [4, 5, 6],\n",
       "       [7, 8, 9]])"
      ]
     },
     "execution_count": 20,
     "metadata": {},
     "output_type": "execute_result"
    }
   ],
   "source": [
    "a3 = np.array([\n",
    "    [1,2,3],\n",
    "    [4,5,6],\n",
    "    [7,8,9]\n",
    "])\n",
    "\n",
    "a3  "
   ]
  },
  {
   "cell_type": "markdown",
   "id": "18b2fefd-0467-4e67-b487-ab9f5207563a",
   "metadata": {},
   "source": [
    "No confundir, la matriz anterior continua siendo de dos dimensiones, solo que ahora tiene más filas."
   ]
  },
  {
   "cell_type": "code",
   "execution_count": 21,
   "id": "cb562cd3-644a-44af-bf3a-5b0fd42b0588",
   "metadata": {},
   "outputs": [
    {
     "data": {
      "text/plain": [
       "2"
      ]
     },
     "execution_count": 21,
     "metadata": {},
     "output_type": "execute_result"
    }
   ],
   "source": [
    "a3.ndim"
   ]
  },
  {
   "cell_type": "markdown",
   "id": "c7b6793e-7e65-4620-b9b2-9f9fd7d86cae",
   "metadata": {},
   "source": [
    "Para realizar una matriz de 3 dimensiones debemos crear los \"pisos\" de esta matriz, y esto se realiza poniendo las filas de este piso en otra lista."
   ]
  },
  {
   "cell_type": "code",
   "execution_count": 23,
   "id": "d7b3cbcf-842d-44c7-ab32-dd7b364a90f2",
   "metadata": {},
   "outputs": [
    {
     "data": {
      "text/plain": [
       "array([[[ 1,  2,  3],\n",
       "        [ 4,  5,  6]],\n",
       "\n",
       "       [[ 7,  8,  9],\n",
       "        [10, 11, 12]]])"
      ]
     },
     "execution_count": 23,
     "metadata": {},
     "output_type": "execute_result"
    }
   ],
   "source": [
    "a3d = np.array([\n",
    "    [[1,2,3],[4,5,6]],\n",
    "    [[7,8,9],[10,11,12]]\n",
    "])\n",
    "a3d"
   ]
  },
  {
   "cell_type": "code",
   "execution_count": 24,
   "id": "d6e8dd4a-b383-4ce2-9d43-f92b6c6fd89c",
   "metadata": {},
   "outputs": [
    {
     "data": {
      "text/plain": [
       "3"
      ]
     },
     "execution_count": 24,
     "metadata": {},
     "output_type": "execute_result"
    }
   ],
   "source": [
    "a3d.ndim"
   ]
  },
  {
   "cell_type": "code",
   "execution_count": 26,
   "id": "571bf15e-d58b-450a-baad-463d8c0b7322",
   "metadata": {},
   "outputs": [
    {
     "data": {
      "text/plain": [
       "(2, 2, 3)"
      ]
     },
     "execution_count": 26,
     "metadata": {},
     "output_type": "execute_result"
    }
   ],
   "source": [
    "# El primer 2 se refiere a los #pisos, el segundo a la cantida de filas, y el tercero las columnas\n",
    "a3d.shape"
   ]
  },
  {
   "cell_type": "markdown",
   "id": "f4036a50-8181-487f-b26b-61dc6c9a4ff5",
   "metadata": {},
   "source": [
    "Para seleccionar elementos de este array debería ir eligiendo por partes, primero el \"piso\", luego la fila y por último la columna."
   ]
  },
  {
   "cell_type": "code",
   "execution_count": 27,
   "id": "7be1a22e-b160-4320-805c-21ebce1675aa",
   "metadata": {},
   "outputs": [
    {
     "data": {
      "text/plain": [
       "array([[1, 2, 3],\n",
       "       [4, 5, 6]])"
      ]
     },
     "execution_count": 27,
     "metadata": {},
     "output_type": "execute_result"
    }
   ],
   "source": [
    "a3d[0]"
   ]
  },
  {
   "cell_type": "code",
   "execution_count": 28,
   "id": "1d18ab7b-9698-4dae-89cc-6a053b02d7ec",
   "metadata": {},
   "outputs": [
    {
     "data": {
      "text/plain": [
       "array([4, 5, 6])"
      ]
     },
     "execution_count": 28,
     "metadata": {},
     "output_type": "execute_result"
    }
   ],
   "source": [
    "a3d[0][1]"
   ]
  },
  {
   "cell_type": "code",
   "execution_count": 29,
   "id": "c3f4156b-3f42-4f22-a68e-261801cbcd07",
   "metadata": {},
   "outputs": [
    {
     "data": {
      "text/plain": [
       "4"
      ]
     },
     "execution_count": 29,
     "metadata": {},
     "output_type": "execute_result"
    }
   ],
   "source": [
    "a3d[0][1][0]"
   ]
  },
  {
   "cell_type": "markdown",
   "id": "2fe47771-bf9f-4448-b58f-d6057def704b",
   "metadata": {},
   "source": [
    "Podemos realizar operaciones con arrays, como multiplicaciones por escalares, o entre arrays, pero estos últimos deben tener la misma cantidad de filas y columnas."
   ]
  },
  {
   "cell_type": "code",
   "execution_count": 30,
   "id": "43027624-1c2f-4ac4-b5cf-2708628b9f03",
   "metadata": {},
   "outputs": [
    {
     "data": {
      "text/plain": [
       "array([[1, 2, 3],\n",
       "       [4, 5, 6],\n",
       "       [7, 8, 9]])"
      ]
     },
     "execution_count": 30,
     "metadata": {},
     "output_type": "execute_result"
    }
   ],
   "source": [
    "a3"
   ]
  },
  {
   "cell_type": "code",
   "execution_count": 32,
   "id": "ae87b9ee-7231-4c9b-a701-ee5a6de17579",
   "metadata": {},
   "outputs": [
    {
     "data": {
      "text/plain": [
       "array([[ 2,  4,  6],\n",
       "       [ 8, 10, 12],\n",
       "       [14, 16, 18]])"
      ]
     },
     "execution_count": 32,
     "metadata": {},
     "output_type": "execute_result"
    }
   ],
   "source": [
    "a4 = a3*2\n",
    "a4"
   ]
  },
  {
   "cell_type": "code",
   "execution_count": 34,
   "id": "a7fa1892-33a1-40ae-a142-d84f23962fca",
   "metadata": {},
   "outputs": [
    {
     "data": {
      "text/plain": [
       "array([[1, 2, 3],\n",
       "       [4, 5, 6]])"
      ]
     },
     "execution_count": 34,
     "metadata": {},
     "output_type": "execute_result"
    }
   ],
   "source": [
    "a2"
   ]
  },
  {
   "cell_type": "code",
   "execution_count": 37,
   "id": "3c948dd1-0bd9-45e3-bd87-14a8aace917f",
   "metadata": {},
   "outputs": [
    {
     "ename": "ValueError",
     "evalue": "operands could not be broadcast together with shapes (3,3) (2,3) ",
     "output_type": "error",
     "traceback": [
      "\u001b[1;31m---------------------------------------------------------------------------\u001b[0m",
      "\u001b[1;31mValueError\u001b[0m                                Traceback (most recent call last)",
      "\u001b[1;32m~\\AppData\\Local\\Temp/ipykernel_17972/3504565957.py\u001b[0m in \u001b[0;36m<module>\u001b[1;34m\u001b[0m\n\u001b[0;32m      1\u001b[0m \u001b[1;31m# Si multiplico a3 y a2 me da un error debido a que no tienen las mismas cantidad de filas y columnas\u001b[0m\u001b[1;33m\u001b[0m\u001b[1;33m\u001b[0m\u001b[1;33m\u001b[0m\u001b[0m\n\u001b[1;32m----> 2\u001b[1;33m \u001b[0ma3\u001b[0m\u001b[1;33m*\u001b[0m\u001b[0ma2\u001b[0m\u001b[1;33m\u001b[0m\u001b[1;33m\u001b[0m\u001b[0m\n\u001b[0m",
      "\u001b[1;31mValueError\u001b[0m: operands could not be broadcast together with shapes (3,3) (2,3) "
     ]
    }
   ],
   "source": [
    "# Si multiplico a3 y a2 me da un error debido a que no tienen las mismas cantidad de filas y columnas\n",
    "a3*a2"
   ]
  },
  {
   "cell_type": "markdown",
   "id": "620c200a-25e8-430d-9cc3-d96eec31608d",
   "metadata": {},
   "source": [
    "También se puede realizar un promedio con todos los valores de una matriz."
   ]
  },
  {
   "cell_type": "code",
   "execution_count": 38,
   "id": "5eb8c43f-249d-4505-97bd-89eee3acb75a",
   "metadata": {},
   "outputs": [
    {
     "data": {
      "text/plain": [
       "10.0"
      ]
     },
     "execution_count": 38,
     "metadata": {},
     "output_type": "execute_result"
    }
   ],
   "source": [
    "a4.mean()"
   ]
  },
  {
   "cell_type": "markdown",
   "id": "cbb7a901-d104-4d3a-b3cd-b21b80ae394c",
   "metadata": {},
   "source": [
    "## Comparación NumPy contra las listas propias de Python ##"
   ]
  },
  {
   "cell_type": "markdown",
   "id": "9be902a7-47eb-480a-b3f8-08e89d3bd394",
   "metadata": {},
   "source": [
    "La diferencia está en que NumPy ocupa menos espacio de memoria que las listas de Python para realizar la misma operación. Y por otro lado es más rápido."
   ]
  },
  {
   "cell_type": "markdown",
   "id": "cd326bf2-c48e-4009-b6dd-bf6141991cbb",
   "metadata": {},
   "source": [
    "En el ejemplo siguiente creamos una lista de 1000 elementos y calculamos la memoria asignada a esta lista con respecto a estas dos metodologías."
   ]
  },
  {
   "cell_type": "code",
   "execution_count": 40,
   "id": "42a84898-bf57-4417-9e61-7bb121ea3a6c",
   "metadata": {},
   "outputs": [
    {
     "name": "stdout",
     "output_type": "stream",
     "text": [
      "Resultado lista de Python: \n",
      "28000\n",
      "\n"
     ]
    }
   ],
   "source": [
    "import sys\n",
    "S = range(1000)\n",
    "print(\"Resultado lista de Python: \")\n",
    "print(sys.getsizeof(5)*len(S))\n",
    "print()"
   ]
  },
  {
   "cell_type": "code",
   "execution_count": 41,
   "id": "6cbf4c9c-524e-4818-ac6e-f8dda75bd202",
   "metadata": {},
   "outputs": [
    {
     "name": "stdout",
     "output_type": "stream",
     "text": [
      "Resultado NumPy array: \n",
      "4000\n"
     ]
    }
   ],
   "source": [
    "D = np.arange(1000)\n",
    "print(\"Resultado NumPy array: \")\n",
    "print(D.size*D.itemsize)"
   ]
  },
  {
   "cell_type": "markdown",
   "id": "60f03b46-d719-45c2-92fb-6f28894dea9f",
   "metadata": {},
   "source": [
    "Ahora analizaremos la rapidez, crearemos dos listas con un millón de datos cada una y crearemos en base a ellas dos array. Con esto calcularemos la rapidez en crear estos array con ambas metodologías."
   ]
  },
  {
   "cell_type": "code",
   "execution_count": 61,
   "id": "a32c94b2-ed1f-4ba3-b4d7-5801f60aecf1",
   "metadata": {},
   "outputs": [
    {
     "name": "stdout",
     "output_type": "stream",
     "text": [
      "Resultado lista de Python:\n",
      "201.01666450500488\n",
      "\n",
      "Resultado NumPy array: \n",
      "73.00758361816406\n"
     ]
    }
   ],
   "source": [
    "import time\n",
    "SIZE = 1000000\n",
    "\n",
    "L1 = range(SIZE)\n",
    "L2 = range(SIZE)\n",
    "A1 = np.arange(SIZE)\n",
    "A2 = np.arange(SIZE)\n",
    "\n",
    "start = time.time()\n",
    "result = [(x,y) for x,y in zip(L1,L2)] # re complicado nae\n",
    "print(\"Resultado lista de Python:\")\n",
    "print((time.time()-start)*1000)\n",
    "print()\n",
    "start = time.time()\n",
    "result = A1+A2\n",
    "print(\"Resultado NumPy array: \")\n",
    "print((time.time()-start)*1000)"
   ]
  },
  {
   "cell_type": "markdown",
   "id": "fc83f527-c895-4327-bdc3-22d9541efec3",
   "metadata": {},
   "source": [
    "## Comandos NumPy ##"
   ]
  },
  {
   "cell_type": "markdown",
   "id": "0299a327-7d35-4e95-8f90-14c00e0e63a4",
   "metadata": {},
   "source": [
    "Podemos definir el tipo de variable que vamos a utilizar (int, float, string, etc)."
   ]
  },
  {
   "cell_type": "code",
   "execution_count": 62,
   "id": "9a31c75b-c95f-4792-8ebc-f6f63ef1f1c1",
   "metadata": {},
   "outputs": [
    {
     "name": "stdout",
     "output_type": "stream",
     "text": [
      "[[1 2 3 4]\n",
      " [5 6 7 8]]\n"
     ]
    }
   ],
   "source": [
    "import numpy as np\n",
    "\n",
    "array = np.array([[1,2,3,4],[5,6,7,8]], dtype=np.int64)\n",
    "print(array)"
   ]
  },
  {
   "cell_type": "markdown",
   "id": "95ade759-f97a-4c5b-ba5e-f0bcc4f9cbee",
   "metadata": {},
   "source": [
    "En ocaciones se requiere crear matrices vacías, esto se refiere a que se requieren marcadores de posición iniciales, que luego pueden ser rellenados. Se pueden inicializar matrices con unos o ceros, pero también se pueden hacer matrices que se llenen con valores espaciados uniformemente, valores constantes o aleatorios."
   ]
  },
  {
   "cell_type": "markdown",
   "id": "6ae4b050-1273-4f39-a460-c54bfdb38ea3",
   "metadata": {},
   "source": [
    "Alguna de las instrucciones para crear este tipo de matrices son las siguientes:"
   ]
  },
  {
   "cell_type": "code",
   "execution_count": 64,
   "id": "69ee0211-e1db-4c12-8964-e6fcbf373c8c",
   "metadata": {},
   "outputs": [
    {
     "name": "stdout",
     "output_type": "stream",
     "text": [
      "[[1. 1. 1. 1.]\n",
      " [1. 1. 1. 1.]\n",
      " [1. 1. 1. 1.]]\n"
     ]
    }
   ],
   "source": [
    "#Matriz donde todos los valores son 1\n",
    "unos = np.ones((3,4))\n",
    "print(unos)"
   ]
  },
  {
   "cell_type": "code",
   "execution_count": 65,
   "id": "5a80b5d5-e976-4272-9ca3-8bf60921e7a0",
   "metadata": {},
   "outputs": [
    {
     "name": "stdout",
     "output_type": "stream",
     "text": [
      "[[0. 0. 0. 0.]\n",
      " [0. 0. 0. 0.]\n",
      " [0. 0. 0. 0.]]\n"
     ]
    }
   ],
   "source": [
    "#Matriz donde todos los valores sean ceros\n",
    "ceros = np.zeros((3,4))\n",
    "print(ceros)"
   ]
  },
  {
   "cell_type": "code",
   "execution_count": 66,
   "id": "d8ba1a42-2d73-4708-b56b-7130db0d4d4f",
   "metadata": {},
   "outputs": [
    {
     "name": "stdout",
     "output_type": "stream",
     "text": [
      "[[0.53554846 0.39147309 0.38775994 0.71342713]\n",
      " [0.44558716 0.78267961 0.02974783 0.51914364]\n",
      " [0.40230246 0.71864516 0.34882256 0.00950856]]\n"
     ]
    }
   ],
   "source": [
    "#Matriz con valores aleatorios\n",
    "aleatorios = np.random.random((3,4))\n",
    "print(aleatorios)"
   ]
  },
  {
   "cell_type": "code",
   "execution_count": 72,
   "id": "530a7905-00bc-4b34-a79f-ed948ddeb20f",
   "metadata": {},
   "outputs": [
    {
     "name": "stdout",
     "output_type": "stream",
     "text": [
      "[[4.24399158e-314 8.48798317e-314]\n",
      " [1.27319747e-313 1.69759663e-313]\n",
      " [2.12199579e-313 2.54639495e-313]]\n"
     ]
    }
   ],
   "source": [
    "#Matriz vacía\n",
    "vacia = np.empty((3,2))\n",
    "print(vacia)"
   ]
  },
  {
   "cell_type": "code",
   "execution_count": 74,
   "id": "69769e31-f519-4547-9b84-efa72dfe21f6",
   "metadata": {},
   "outputs": [
    {
     "name": "stdout",
     "output_type": "stream",
     "text": [
      "[[8 8]\n",
      " [8 8]]\n"
     ]
    }
   ],
   "source": [
    "#Matriz con el mismo valor en todas las posiciones\n",
    "full = np.full((2,2),8)\n",
    "print(full)"
   ]
  },
  {
   "cell_type": "code",
   "execution_count": 76,
   "id": "a4ff14ea-bcc2-4390-87cb-0aed5a9c9d13",
   "metadata": {},
   "outputs": [
    {
     "name": "stdout",
     "output_type": "stream",
     "text": [
      "[ 0  5 10 15 20 25]\n",
      "[0.  0.5 1.  1.5 2. ]\n"
     ]
    }
   ],
   "source": [
    "#Matriz con valores espaciados uniformemente\n",
    "espacio1 = np.arange(0,30,5)\n",
    "print(espacio1)\n",
    "\n",
    "espacio2 = np.linspace(0,2,5)\n",
    "print(espacio2)"
   ]
  },
  {
   "cell_type": "code",
   "execution_count": 77,
   "id": "05c327d5-784b-44d1-972d-6f8faf968f38",
   "metadata": {},
   "outputs": [
    {
     "name": "stdout",
     "output_type": "stream",
     "text": [
      "[[1. 0. 0. 0.]\n",
      " [0. 1. 0. 0.]\n",
      " [0. 0. 1. 0.]\n",
      " [0. 0. 0. 1.]]\n",
      "[[1. 0. 0. 0.]\n",
      " [0. 1. 0. 0.]\n",
      " [0. 0. 1. 0.]\n",
      " [0. 0. 0. 1.]]\n"
     ]
    }
   ],
   "source": [
    "#Matriz identidad\n",
    "identidad1 = np.eye(4,4)\n",
    "print(identidad1)\n",
    "\n",
    "identidad2 = np.identity(4)\n",
    "print(identidad2)"
   ]
  },
  {
   "cell_type": "markdown",
   "id": "e16cd676-3385-4bb2-9ace-73253122f8fa",
   "metadata": {},
   "source": [
    "Para inspeccionar matrices tenemos los siguientes códigos:"
   ]
  },
  {
   "cell_type": "code",
   "execution_count": 78,
   "id": "98f3d7af-026f-4ef8-9818-0606b6e5ea64",
   "metadata": {},
   "outputs": [
    {
     "data": {
      "text/plain": [
       "2"
      ]
     },
     "execution_count": 78,
     "metadata": {},
     "output_type": "execute_result"
    }
   ],
   "source": [
    "#Conocer las dimensiones de una matriz\n",
    "a = np.array([(1,2,3),(4,5,6)])\n",
    "a.ndim"
   ]
  },
  {
   "cell_type": "code",
   "execution_count": 85,
   "id": "8e50fb55-4d64-4f61-a693-58fe8d9f03e1",
   "metadata": {},
   "outputs": [
    {
     "data": {
      "text/plain": [
       "dtype('float64')"
      ]
     },
     "execution_count": 85,
     "metadata": {},
     "output_type": "execute_result"
    }
   ],
   "source": [
    "#Tipo de datos de una matriz\n",
    "a = np.array([1.2,2.0,3.55], dtype=np.float64)\n",
    "a.dtype"
   ]
  },
  {
   "cell_type": "code",
   "execution_count": 87,
   "id": "4f6edb4e-b22d-45c7-b949-2cccb052ee44",
   "metadata": {},
   "outputs": [
    {
     "name": "stdout",
     "output_type": "stream",
     "text": [
      "6\n",
      "(1, 6)\n"
     ]
    }
   ],
   "source": [
    "#Conocer el tamaño y forma de la matriz\n",
    "a = np.array([(1,2,3,4,5,6)])\n",
    "print(a.size)\n",
    "print(a.shape)"
   ]
  },
  {
   "cell_type": "code",
   "execution_count": 89,
   "id": "4a4ec61a-b3a1-4131-af93-d5f422f7fe74",
   "metadata": {},
   "outputs": [
    {
     "name": "stdout",
     "output_type": "stream",
     "text": [
      "Matriz original\n",
      "[[1 2 3]\n",
      " [4 5 6]]\n",
      "Matriz Transpuesta\n",
      "[[1 2]\n",
      " [3 4]\n",
      " [5 6]]\n"
     ]
    }
   ],
   "source": [
    "#Transpuesta de una matriz\n",
    "a = np.array([(1,2,3),(4,5,6)])\n",
    "print(\"Matriz original\")\n",
    "print(a)\n",
    "a=a.reshape(3,2)\n",
    "print(\"Matriz Transpuesta\")\n",
    "print(a)"
   ]
  },
  {
   "cell_type": "code",
   "execution_count": 92,
   "id": "ae3984a6-c79d-49df-b020-97027910bc0d",
   "metadata": {},
   "outputs": [
    {
     "data": {
      "text/plain": [
       "array([2, 4, 6])"
      ]
     },
     "execution_count": 92,
     "metadata": {},
     "output_type": "execute_result"
    }
   ],
   "source": [
    "#Obtener todos los datos de una columna\n",
    "a[0:,1]"
   ]
  },
  {
   "cell_type": "code",
   "execution_count": 93,
   "id": "6cd0fe9d-34e0-46d8-9e2c-04d0c0edff46",
   "metadata": {},
   "outputs": [
    {
     "name": "stdout",
     "output_type": "stream",
     "text": [
      "2\n",
      "8\n",
      "14\n"
     ]
    }
   ],
   "source": [
    "#Encontrar el mínimo, máximo y la suma \n",
    "a = np.array([2,4,8])\n",
    "print(a.min())\n",
    "print(a.max())\n",
    "print(a.sum())"
   ]
  },
  {
   "cell_type": "code",
   "execution_count": 95,
   "id": "ca7bbb70-6c76-403f-ba56-37fba7bf51ed",
   "metadata": {},
   "outputs": [
    {
     "name": "stdout",
     "output_type": "stream",
     "text": [
      "Raiz cuadrada\n",
      "[[1.         1.41421356 1.73205081]\n",
      " [1.73205081 2.         2.23606798]]\n",
      "Desviación estandar\n",
      "1.2909944487358056\n"
     ]
    }
   ],
   "source": [
    "#Raiz cuadrada y desviación estandar\n",
    "a = np.array([(1,2,3),(3,4,5)])\n",
    "print(\"Raiz cuadrada\")\n",
    "print(np.sqrt(a))\n",
    "print(\"Desviación estandar\")\n",
    "print(np.std(a))"
   ]
  }
 ],
 "metadata": {
  "kernelspec": {
   "display_name": "Python 3 (ipykernel)",
   "language": "python",
   "name": "python3"
  },
  "language_info": {
   "codemirror_mode": {
    "name": "ipython",
    "version": 3
   },
   "file_extension": ".py",
   "mimetype": "text/x-python",
   "name": "python",
   "nbconvert_exporter": "python",
   "pygments_lexer": "ipython3",
   "version": "3.8.12"
  }
 },
 "nbformat": 4,
 "nbformat_minor": 5
}
