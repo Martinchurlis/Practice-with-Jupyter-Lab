{
 "cells": [
  {
   "cell_type": "markdown",
   "id": "3101f529-6414-4fde-a9ca-f1ebcf4d5110",
   "metadata": {},
   "source": [
    "## Enviroments y paquetes ##"
   ]
  },
  {
   "cell_type": "markdown",
   "id": "ab41bde5-aafa-434d-adc7-b3382f6bdd84",
   "metadata": {},
   "source": [
    "**Enviroments**: Entorno en Python parcialmente aislado, que permite instalar paquetes para que los use una aplicación en particular, en vez de instalarlos en todo el sistema."
   ]
  },
  {
   "cell_type": "markdown",
   "id": "35a534be-2b28-46dc-b284-28f233d4ed7c",
   "metadata": {},
   "source": [
    "**Paquetes:** Piezas de código que extienden las funcionalidades de Python. Con estos podemos usar funciones, clases y objetos para realizar análisis más poderosos."
   ]
  },
  {
   "cell_type": "markdown",
   "id": "80c5fd3a-966b-4134-b872-d8b78e2d4b5a",
   "metadata": {},
   "source": [
    "Anaconda viene con paquetes de ciencia de datos ya instalados, por lo que los paquetes más especificos tendremos que instalarlos nosotros."
   ]
  },
  {
   "cell_type": "markdown",
   "id": "6e5a6e94-4fa9-4ee2-90fd-814f2d688fa3",
   "metadata": {},
   "source": [
    "**Formas de instalar un paquete:**"
   ]
  },
  {
   "cell_type": "markdown",
   "id": "6ef362d1-84ea-470c-bcd6-6a0333705f03",
   "metadata": {},
   "source": [
    "Desde anaconda prompt:    *conda install nombre_paquete*"
   ]
  },
  {
   "cell_type": "markdown",
   "id": "e83971be-cdfc-491f-939b-62e873ae5bf7",
   "metadata": {},
   "source": [
    "Si queremos instalar un paquete en un enviroment específico, primero debemos activarlo a través del Anaconta Prompt: *activate enviroment*"
   ]
  },
  {
   "cell_type": "markdown",
   "id": "7cf8b611-e0ba-426f-9de3-4e614ef72c61",
   "metadata": {},
   "source": [
    "Desde Jupyter: En una celda de código ejecutar *pip install nombre_paquete*"
   ]
  },
  {
   "cell_type": "markdown",
   "id": "8d6ab767-3b8c-48c3-8e73-7d7775272933",
   "metadata": {},
   "source": [
    "También se puede consultar la forma de instalar un paquete desde la página oficial de este.\n"
   ]
  },
  {
   "cell_type": "markdown",
   "id": "30e99e46-5c06-406a-b628-57ae6091a6cf",
   "metadata": {},
   "source": [
    "**Formas de Importar un paquete (una vez instalado)**"
   ]
  },
  {
   "cell_type": "markdown",
   "id": "1325f3bf-c81c-4a60-a0e3-ae874f1f9dd2",
   "metadata": {},
   "source": [
    "1) Forma clásica:\n",
    "*import pandas*"
   ]
  },
  {
   "cell_type": "markdown",
   "id": "bf2310aa-ca00-46e1-826a-356a2d28b25c",
   "metadata": {},
   "source": [
    "2) Importar con abreviatura:\n",
    "*import pandas as pd*"
   ]
  },
  {
   "cell_type": "markdown",
   "id": "70dbec35-f1ea-4d30-bfc7-36d1d3bfd9a3",
   "metadata": {},
   "source": [
    "3) Cargar función especifica del paquete:\n",
    "\n",
    "*from pandas import DataFrame*"
   ]
  },
  {
   "cell_type": "markdown",
   "id": "36e80d1d-dde3-4215-8e64-273858177163",
   "metadata": {},
   "source": [
    "## pip ##"
   ]
  },
  {
   "cell_type": "markdown",
   "id": "947b0d1a-311f-4865-b29f-3900943dc8e7",
   "metadata": {},
   "source": [
    "1) Una función muy útil a la hora de trabajar con paquetes es:\n",
    "\n",
    "*pip show nombre_paquete*\n",
    "\n",
    "Con este comando tendremos acceso a la información principal del paquete, y lo importante es obtener el link de la página principal del mismo. De ahí obtendremos toda la información."
   ]
  },
  {
   "cell_type": "markdown",
   "id": "2f04ecdc-60c8-4fae-8aea-6281cc21d6dc",
   "metadata": {},
   "source": [
    "2) Para buscar paquetes relacionados a un tema en particular se puede trabajar con el comando:\n",
    "\n",
    "*pip search tema_buscado*\n",
    "\n",
    "Con esto obtendremos una lista de paquetes con su respectiva aplicación."
   ]
  },
  {
   "cell_type": "markdown",
   "id": "5fc5e10f-709b-47ae-8bf7-a561301fb4c8",
   "metadata": {},
   "source": [
    "3) Para mostrar todos los paquetes instalados en el entorno virtual podemos utilizar:\n",
    "\n",
    "*pip list*\n"
   ]
  },
  {
   "cell_type": "markdown",
   "id": "bf3553da-4a94-4542-84ed-aa785481914f",
   "metadata": {},
   "source": [
    "4) Para copiar un ambiente, guardarlo en un archivo .txt y luego instalarlo facilmente para otro ambiente diferente, es útil el comando:\n",
    "\n",
    "*pip freeze > requirements.txt*\n",
    "\n",
    "Con esto tendremos un documento de texto compatible con la función *pip install*"
   ]
  },
  {
   "cell_type": "markdown",
   "id": "d0df901a-03c7-4d4d-8c47-22aea614f37c",
   "metadata": {},
   "source": [
    "Una vez que tengamos este archivo de texto, este puede instalarse facilmente con el comando:\n",
    "\n",
    "*pip install -r requirements.txt*\n",
    "\n",
    "Ahora el comando es \"install -r\". (1)"
   ]
  },
  {
   "cell_type": "markdown",
   "id": "a45fdef2-106d-4e5c-aed8-187d0f511bd9",
   "metadata": {},
   "source": [
    "## Anaconda ## "
   ]
  },
  {
   "cell_type": "markdown",
   "id": "a6ab9dbe-83f3-4f6a-93a3-84b543214f17",
   "metadata": {},
   "source": [
    "En anaconda podemos trabajar de dos maneras, una con la aplicación *Anaconda Navigator*, de donde directamente creamos un nuevo enviroment y desde ahí podemos, según el canal que elijamos, descargar los paquetes.\n",
    "La otra forma es mediante *anaconda prompt*, la manera más fácil es crear el enviroment desde la aplicación *Anaconda Navigator* y luego desde anaconda prompt instalar los paquetes de la manera vista en (1)."
   ]
  },
  {
   "cell_type": "markdown",
   "id": "f8b9ffb9-2b30-44ed-b864-0fa02ea09f06",
   "metadata": {},
   "source": [
    "Luego de esto podemos activar el ambiente desde anaconda prompt, mediante *conda activate nombre_enviroment*. Despues nos situamos en la carpeta donde querramos trabajar con *cd desktop\\cd carpeta*, por ejemplo, y activamos Jupyter mediante el comando *jupyter-lab*. "
   ]
  },
  {
   "cell_type": "markdown",
   "id": "08746b67-e041-430c-9769-760c0bb3e73c",
   "metadata": {},
   "source": [
    "El anaconda prompt que utilizamos para abrir Jupyter Lab quedará ocupado realizando las veces de servidor entre nuestro equipo y la página de Jupyter Lab donde estemos trabajando, es por esto que para poder instalar los paquetes es necesario abrir un nuevo anaconda prompt, desde el cual activaremos el enviroment y estaremos listos para instalar todos los paquetes necearios ya sea con *pip* o mediante *conda install*"
   ]
  },
  {
   "cell_type": "markdown",
   "id": "763704e2-07e3-463f-9dcd-698a8eafafe7",
   "metadata": {},
   "source": [
    "Para importar los paquetes necesarios para un enviroment en base a un archivo *.yml* debemos crear uno nuevo en *anaconda navigator* en *import*, nos pedirá un nombre para este ambiente y que seleccionemos el path del archivo.yml .\n"
   ]
  }
 ],
 "metadata": {
  "kernelspec": {
   "display_name": "Python 3 (ipykernel)",
   "language": "python",
   "name": "python3"
  },
  "language_info": {
   "codemirror_mode": {
    "name": "ipython",
    "version": 3
   },
   "file_extension": ".py",
   "mimetype": "text/x-python",
   "name": "python",
   "nbconvert_exporter": "python",
   "pygments_lexer": "ipython3",
   "version": "3.8.12"
  }
 },
 "nbformat": 4,
 "nbformat_minor": 5
}
