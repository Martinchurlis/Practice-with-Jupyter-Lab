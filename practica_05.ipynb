{
 "cells": [
  {
   "cell_type": "markdown",
   "id": "3101f529-6414-4fde-a9ca-f1ebcf4d5110",
   "metadata": {},
   "source": [
    "## Enviroments y paquetes ##"
   ]
  },
  {
   "cell_type": "markdown",
   "id": "ab41bde5-aafa-434d-adc7-b3382f6bdd84",
   "metadata": {},
   "source": [
    "**Enviroments**: Entorno en Python parcialmente aislado, que permite instalar paquetes para que los use una aplicación en particular, en vez de instalarlos en todo el sistema."
   ]
  },
  {
   "cell_type": "markdown",
   "id": "35a534be-2b28-46dc-b284-28f233d4ed7c",
   "metadata": {},
   "source": [
    "**Paquetes:** Piezas de código que extienden las funcionalidades de Python. Con estos podemos usar funciones, clases y objetos para realizar análisis más poderosos."
   ]
  },
  {
   "cell_type": "markdown",
   "id": "80c5fd3a-966b-4134-b872-d8b78e2d4b5a",
   "metadata": {},
   "source": [
    "Anaconda viene con paquetes de ciencia de datos ya instalados, por lo que los paquetes más especificos tendremos que instalarlos nosotros."
   ]
  },
  {
   "cell_type": "markdown",
   "id": "6e5a6e94-4fa9-4ee2-90fd-814f2d688fa3",
   "metadata": {},
   "source": [
    "**Formas de instalar un paquete:**"
   ]
  },
  {
   "cell_type": "markdown",
   "id": "6ef362d1-84ea-470c-bcd6-6a0333705f03",
   "metadata": {},
   "source": [
    "Desde anaconda prompt:    *conda install nombre_paquete*"
   ]
  },
  {
   "cell_type": "markdown",
   "id": "e83971be-cdfc-491f-939b-62e873ae5bf7",
   "metadata": {},
   "source": [
    "Si queremos instalar un paquete en un enviroment específico, primero debemos activarlo a través del Anaconta Prompt: *activate enviroment*"
   ]
  },
  {
   "cell_type": "markdown",
   "id": "7cf8b611-e0ba-426f-9de3-4e614ef72c61",
   "metadata": {},
   "source": [
    "Desde Jupyter: En una celda de código ejecutar *pip install nombre_paquete*"
   ]
  },
  {
   "cell_type": "markdown",
   "id": "8d6ab767-3b8c-48c3-8e73-7d7775272933",
   "metadata": {},
   "source": [
    "También se puede consultar la forma de instalar un paquete desde la página oficial de este.\n"
   ]
  },
  {
   "cell_type": "markdown",
   "id": "30e99e46-5c06-406a-b628-57ae6091a6cf",
   "metadata": {},
   "source": [
    "**Formas de Importar un paquete (una vez instalado)**"
   ]
  },
  {
   "cell_type": "markdown",
   "id": "1325f3bf-c81c-4a60-a0e3-ae874f1f9dd2",
   "metadata": {},
   "source": [
    "1) Forma clásica:\n",
    "*import pandas*"
   ]
  },
  {
   "cell_type": "markdown",
   "id": "bf2310aa-ca00-46e1-826a-356a2d28b25c",
   "metadata": {},
   "source": [
    "2) Importar con abreviatura:\n",
    "*import pandas as pd*"
   ]
  },
  {
   "cell_type": "markdown",
   "id": "70dbec35-f1ea-4d30-bfc7-36d1d3bfd9a3",
   "metadata": {},
   "source": [
    "3) Cargar función especifica del paquete:\n",
    "\n",
    "*from pandas import DataFrame*"
   ]
  },
  {
   "cell_type": "markdown",
   "id": "947b0d1a-311f-4865-b29f-3900943dc8e7",
   "metadata": {},
   "source": [
    "Una funcion muy útil a la hora de trabajar con paquetes es:\n",
    "\n",
    "*pip show nombre_paquete*\n",
    "\n",
    "Con este comando tendremos acceso a la información principal del paquete, y lo importante es obtener el link de la página principal del mismo. De ahí obtendremos toda la información."
   ]
  }
 ],
 "metadata": {
  "kernelspec": {
   "display_name": "Python 3 (ipykernel)",
   "language": "python",
   "name": "python3"
  },
  "language_info": {
   "codemirror_mode": {
    "name": "ipython",
    "version": 3
   },
   "file_extension": ".py",
   "mimetype": "text/x-python",
   "name": "python",
   "nbconvert_exporter": "python",
   "pygments_lexer": "ipython3",
   "version": "3.8.12"
  }
 },
 "nbformat": 4,
 "nbformat_minor": 5
}
