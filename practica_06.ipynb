{
 "cells": [
  {
   "cell_type": "markdown",
   "id": "e17dd7ff-8eb4-4ab3-b102-19ec80c0e7c3",
   "metadata": {},
   "source": [
    "## Funciones y métodos ## "
   ]
  },
  {
   "cell_type": "markdown",
   "id": "85a75c6e-223c-4e96-bad4-0171c53fbac9",
   "metadata": {},
   "source": [
    "**Función:** Instrucción que regresa algo."
   ]
  },
  {
   "cell_type": "markdown",
   "id": "8714c8ba-dc8a-438e-8eb6-17b2db940c0f",
   "metadata": {},
   "source": [
    "**Método:** Intrucciones que trabajan sobre un objeto. Cada objeto tiene sus propios métodos."
   ]
  },
  {
   "cell_type": "markdown",
   "id": "6f50327f-a5aa-4cc7-85e3-8877fa12b9ca",
   "metadata": {},
   "source": [
    "En Python hay funciones ya creadas que pueden requerir o no parámetros. Como por ejemplo *help(nombre_función)*, *abs(número)*,etc."
   ]
  },
  {
   "cell_type": "markdown",
   "id": "1616262b-bcf9-4ead-ae14-3be654197b9d",
   "metadata": {},
   "source": [
    "Si la función no existe se la puede crear. Primero declaramos el nombre de la función como *def nombre_función(var1,var2,...):* (muy importante no olvidar los dos puntos \":\" al final)."
   ]
  },
  {
   "cell_type": "markdown",
   "id": "ed7794cd-d78b-4dca-a31d-9737bd965ded",
   "metadata": {},
   "source": [
    "Y luego, debajo de esta declaración y dejando un espacio de tabulación se declara el proceso."
   ]
  },
  {
   "cell_type": "code",
   "execution_count": 13,
   "id": "b35110de-42e8-4092-aa52-1a7b4b7a139f",
   "metadata": {},
   "outputs": [
    {
     "name": "stdout",
     "output_type": "stream",
     "text": [
      "15\n"
     ]
    }
   ],
   "source": [
    "def sumar(numero1,numero2):\n",
    "    print(numero1+numero2)\n",
    "    \n",
    "sumar(10,5)"
   ]
  },
  {
   "cell_type": "markdown",
   "id": "4f6eccba-72e3-4269-9fa0-1103911a0bde",
   "metadata": {},
   "source": [
    "Los métodos se basan en **clases** y **objetos**,las clases son los modelos sobre los cuáles se construirán nuestros objetos, mientras que los objetos son cualidades de esa clase.\n"
   ]
  },
  {
   "cell_type": "markdown",
   "id": "cc0397a3-1e9f-43f0-883f-dbd0aaaee80c",
   "metadata": {},
   "source": [
    "Por ejemplo, vamos a crear a la clase *Persona*, con dos atributos, *nombre* y *edad*. A continuación, creamos un objeto de esa clase: **Martín, 25 años**."
   ]
  },
  {
   "cell_type": "code",
   "execution_count": 19,
   "id": "881c551f-ae22-4dba-8129-2859a7dd2dc0",
   "metadata": {},
   "outputs": [
    {
     "data": {
      "text/plain": [
       "'25'"
      ]
     },
     "execution_count": 19,
     "metadata": {},
     "output_type": "execute_result"
    }
   ],
   "source": [
    "# Creamos la clase persona con los atributos nombre y edad\n",
    "class persona:\n",
    "    nombre = ''\n",
    "    edad = ''\n",
    "#Creamos el objeto Martín, 25 años, una instancia de la clase \"Persona\".\n",
    "martin=persona()\n",
    "martin.nombre= 'Martin'\n",
    "martin.edad= '25'\n",
    "\n",
    "martin.edad"
   ]
  },
  {
   "cell_type": "markdown",
   "id": "8924b174-9fda-4e30-b956-a1636f2de1a6",
   "metadata": {},
   "source": [
    "Los métods son acciones o funciones que puede realizar un objeto. Estos métodos dependen del tipo de objeto con el que estemos trabajando.\n"
   ]
  },
  {
   "cell_type": "markdown",
   "id": "c7d10f0b-a6ab-4dbf-90c5-281d023497c7",
   "metadata": {},
   "source": [
    "Los objetos en Python pueden ser de distintos tipos, cadena de caracteres, booleanos, números enteros, etc.\n"
   ]
  },
  {
   "cell_type": "markdown",
   "id": "56dfa7f7-e267-4e8f-9522-ac49100498b7",
   "metadata": {},
   "source": [
    "Por ejemplo, para los objetos tipo cadena de caracteres, tenemos *métodos* como:\n",
    "- *capitalize()* Que convierte en mayúscula la primera letra de la cadena.\n",
    "- *index()* Que busca determinado caracter en la cadena y devuelve su posición.\n",
    "- *split()* Que divide la cadena según el separador que indiquemos y la convierte en una lista.\n",
    "- *title()* Que convierte el primer caracter de cada palabra en mayúsculas."
   ]
  },
  {
   "cell_type": "markdown",
   "id": "b1d9dd1d-c36c-4dd8-ba8d-96171801abe8",
   "metadata": {},
   "source": [
    "Para acceder a los métodos y propiedades de un objeto, Python utiliza una sintaxis muy simple: El nombre del objeto, seguido de punto y la propiedad o método al cuál se desea acceder. "
   ]
  },
  {
   "cell_type": "code",
   "execution_count": 20,
   "id": "8e6ebdb7-4980-4e1e-b3e3-7a9024d349c5",
   "metadata": {},
   "outputs": [
    {
     "name": "stdout",
     "output_type": "stream",
     "text": [
      "Hoy Salgo De Gira Con Los Pibes\n"
     ]
    }
   ],
   "source": [
    "string1 = \"hoy salgo de gira con los pibes\"\n",
    "\n",
    "string_tit=string1.title()\n",
    "print(string_tit)"
   ]
  },
  {
   "cell_type": "code",
   "execution_count": 24,
   "id": "73ddb080-7712-466f-ad50-06fc1719a726",
   "metadata": {},
   "outputs": [
    {
     "data": {
      "text/plain": [
       "4"
      ]
     },
     "execution_count": 24,
     "metadata": {},
     "output_type": "execute_result"
    }
   ],
   "source": [
    "string1.count(\"o\") #Cantidad de \"caracter\" en el string "
   ]
  },
  {
   "cell_type": "markdown",
   "id": "bade874b-0e26-42dd-bb92-e45514c336ec",
   "metadata": {},
   "source": [
    "## Ejemplo ##"
   ]
  },
  {
   "cell_type": "code",
   "execution_count": 26,
   "id": "c193654b-6650-492a-bcef-79d580dd8934",
   "metadata": {},
   "outputs": [],
   "source": [
    "variable = \"hola\""
   ]
  },
  {
   "cell_type": "code",
   "execution_count": 27,
   "id": "471b7c9f-2236-472b-9b54-734a9c77e812",
   "metadata": {},
   "outputs": [
    {
     "data": {
      "text/plain": [
       "4"
      ]
     },
     "execution_count": 27,
     "metadata": {},
     "output_type": "execute_result"
    }
   ],
   "source": [
    "#Aplicamos una función a variable\n",
    "len(variable)"
   ]
  },
  {
   "cell_type": "code",
   "execution_count": 29,
   "id": "7b88d48e-3e46-4800-b593-3229245231d7",
   "metadata": {},
   "outputs": [
    {
     "data": {
      "text/plain": [
       "'Hola'"
      ]
     },
     "execution_count": 29,
     "metadata": {},
     "output_type": "execute_result"
    }
   ],
   "source": [
    "#Aplicamos un método a variable\n",
    "variable.capitalize()"
   ]
  },
  {
   "cell_type": "markdown",
   "id": "5f96bd37-cf8c-4d54-8605-a990d8441733",
   "metadata": {},
   "source": [
    "Otro ejemplo de función:"
   ]
  },
  {
   "cell_type": "code",
   "execution_count": 30,
   "id": "1f55c564-be8f-4624-819e-aefb92b8997d",
   "metadata": {},
   "outputs": [],
   "source": [
    "def operacion(a,b,c,d):\n",
    "    r=((a+b)*(c))/d\n",
    "    return r"
   ]
  },
  {
   "cell_type": "code",
   "execution_count": 31,
   "id": "b572283b-6834-465d-8ce5-2c8af6a6860f",
   "metadata": {},
   "outputs": [
    {
     "data": {
      "text/plain": [
       "1.5"
      ]
     },
     "execution_count": 31,
     "metadata": {},
     "output_type": "execute_result"
    }
   ],
   "source": [
    "operacion(1,2,5,10)"
   ]
  },
  {
   "cell_type": "markdown",
   "id": "0d5a417e-ab57-4e0b-9ad5-66a269df8810",
   "metadata": {},
   "source": [
    "En la función \"operación\" creamos la variable \"r\", la cual contiene el resultado de nuestra instrucción. Sin embargo, no podemos invocar \"r\" directamente, hay que designarla a un objeto."
   ]
  },
  {
   "cell_type": "code",
   "execution_count": 33,
   "id": "2f42bc3b-28ad-4a23-9b7f-6558a72e6947",
   "metadata": {},
   "outputs": [
    {
     "ename": "NameError",
     "evalue": "name 'r' is not defined",
     "output_type": "error",
     "traceback": [
      "\u001b[1;31m---------------------------------------------------------------------------\u001b[0m",
      "\u001b[1;31mNameError\u001b[0m                                 Traceback (most recent call last)",
      "\u001b[1;32m~\\AppData\\Local\\Temp/ipykernel_17404/1446074967.py\u001b[0m in \u001b[0;36m<module>\u001b[1;34m\u001b[0m\n\u001b[0;32m      1\u001b[0m \u001b[1;31m#invocar r (error)\u001b[0m\u001b[1;33m\u001b[0m\u001b[1;33m\u001b[0m\u001b[1;33m\u001b[0m\u001b[0m\n\u001b[1;32m----> 2\u001b[1;33m \u001b[0mr\u001b[0m\u001b[1;33m\u001b[0m\u001b[1;33m\u001b[0m\u001b[0m\n\u001b[0m",
      "\u001b[1;31mNameError\u001b[0m: name 'r' is not defined"
     ]
    }
   ],
   "source": [
    "#invocar r (error)\n",
    "r"
   ]
  },
  {
   "cell_type": "code",
   "execution_count": 36,
   "id": "acd583b9-211e-4917-93ea-ec40da8312f5",
   "metadata": {},
   "outputs": [
    {
     "data": {
      "text/plain": [
       "1.8"
      ]
     },
     "execution_count": 36,
     "metadata": {},
     "output_type": "execute_result"
    }
   ],
   "source": [
    "#Ahora bien\n",
    "resultado = operacion(1,2,3,5)\n",
    "resultado"
   ]
  },
  {
   "cell_type": "markdown",
   "id": "cd106205-0a67-4e24-a99c-7c23da3a3cd7",
   "metadata": {},
   "source": [
    "## Tarea ## "
   ]
  },
  {
   "cell_type": "markdown",
   "id": "2247a07f-b5a7-4a62-9294-cae3b96d3b23",
   "metadata": {},
   "source": [
    "1) Escribir una función que posea 3 argumentos y entregue la suma de los dos primeros, multiplicados por el tercer argumento. "
   ]
  },
  {
   "cell_type": "code",
   "execution_count": 38,
   "id": "159d6a99-aa0c-42ec-81d9-407df15c0c5e",
   "metadata": {},
   "outputs": [
    {
     "data": {
      "text/plain": [
       "60"
      ]
     },
     "execution_count": 38,
     "metadata": {},
     "output_type": "execute_result"
    }
   ],
   "source": [
    "def operacion(a,b,c):\n",
    "    op=((a+b)*c)\n",
    "    return op\n",
    "\n",
    "operacion(2,4,10)"
   ]
  }
 ],
 "metadata": {
  "kernelspec": {
   "display_name": "Python 3 (ipykernel)",
   "language": "python",
   "name": "python3"
  },
  "language_info": {
   "codemirror_mode": {
    "name": "ipython",
    "version": 3
   },
   "file_extension": ".py",
   "mimetype": "text/x-python",
   "name": "python",
   "nbconvert_exporter": "python",
   "pygments_lexer": "ipython3",
   "version": "3.8.12"
  }
 },
 "nbformat": 4,
 "nbformat_minor": 5
}
