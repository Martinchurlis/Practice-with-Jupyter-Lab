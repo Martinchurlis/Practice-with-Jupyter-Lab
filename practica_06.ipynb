{
 "cells": [
  {
   "cell_type": "markdown",
   "id": "e17dd7ff-8eb4-4ab3-b102-19ec80c0e7c3",
   "metadata": {},
   "source": [
    "## Funciones y métodos ## "
   ]
  },
  {
   "cell_type": "markdown",
   "id": "85a75c6e-223c-4e96-bad4-0171c53fbac9",
   "metadata": {},
   "source": [
    "**Función:** Instrucción que regresa algo."
   ]
  },
  {
   "cell_type": "markdown",
   "id": "8714c8ba-dc8a-438e-8eb6-17b2db940c0f",
   "metadata": {},
   "source": [
    "**Método:** Intrucciones que trabajan sobre un objeto. Cada objeto tiene sus propios métodos."
   ]
  },
  {
   "cell_type": "markdown",
   "id": "6f50327f-a5aa-4cc7-85e3-8877fa12b9ca",
   "metadata": {},
   "source": [
    "En Python hay funciones ya creadas que pueden requerir o no parámetros. Como por ejemplo *help(nombre_función)*, *abs(número)*,etc."
   ]
  },
  {
   "cell_type": "markdown",
   "id": "1616262b-bcf9-4ead-ae14-3be654197b9d",
   "metadata": {},
   "source": [
    "Si la función no existe se la puede crear. Primero declaramos el nombre de la función como *def nombre_función(var1,var2,...):* (muy importante no olvidar los dos puntos \":\" al final)."
   ]
  },
  {
   "cell_type": "markdown",
   "id": "ed7794cd-d78b-4dca-a31d-9737bd965ded",
   "metadata": {},
   "source": [
    "Y luego, debajo de esta declaración y dejando un espacio de tabulación se declara el proceso."
   ]
  },
  {
   "cell_type": "code",
   "execution_count": 13,
   "id": "b35110de-42e8-4092-aa52-1a7b4b7a139f",
   "metadata": {},
   "outputs": [
    {
     "name": "stdout",
     "output_type": "stream",
     "text": [
      "15\n"
     ]
    }
   ],
   "source": [
    "def sumar(numero1,numero2):\n",
    "    print(numero1+numero2)\n",
    "    \n",
    "sumar(10,5)"
   ]
  },
  {
   "cell_type": "markdown",
   "id": "4f6eccba-72e3-4269-9fa0-1103911a0bde",
   "metadata": {},
   "source": [
    "Los métodos se basan en **clases** y **objetos**,las clases son los modelos sobre los cuáles se construirán nuestros objetos, mientras que los objetos son cualidades de esa clase.\n"
   ]
  },
  {
   "cell_type": "markdown",
   "id": "cc0397a3-1e9f-43f0-883f-dbd0aaaee80c",
   "metadata": {},
   "source": [
    "Por ejemplo, vamos a crear a la clase *Persona*, con dos atributos, *nombre* y *edad*. A continuación, creamos un objeto de esa clase: **Martín, 25 años**."
   ]
  },
  {
   "cell_type": "code",
   "execution_count": 19,
   "id": "881c551f-ae22-4dba-8129-2859a7dd2dc0",
   "metadata": {},
   "outputs": [
    {
     "data": {
      "text/plain": [
       "'25'"
      ]
     },
     "execution_count": 19,
     "metadata": {},
     "output_type": "execute_result"
    }
   ],
   "source": [
    "# Creamos la clase persona con los atributos nombre y edad\n",
    "class persona:\n",
    "    nombre = ''\n",
    "    edad = ''\n",
    "#Creamos el objeto Martín, 25 años, una instancia de la clase \"Persona\".\n",
    "martin=persona()\n",
    "martin.nombre= 'Martin'\n",
    "martin.edad= '25'\n",
    "\n",
    "martin.edad"
   ]
  }
 ],
 "metadata": {
  "kernelspec": {
   "display_name": "Python 3 (ipykernel)",
   "language": "python",
   "name": "python3"
  },
  "language_info": {
   "codemirror_mode": {
    "name": "ipython",
    "version": 3
   },
   "file_extension": ".py",
   "mimetype": "text/x-python",
   "name": "python",
   "nbconvert_exporter": "python",
   "pygments_lexer": "ipython3",
   "version": "3.8.12"
  }
 },
 "nbformat": 4,
 "nbformat_minor": 5
}
