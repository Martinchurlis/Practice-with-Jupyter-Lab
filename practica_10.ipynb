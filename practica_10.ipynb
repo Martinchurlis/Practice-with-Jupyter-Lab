{
 "cells": [
  {
   "cell_type": "markdown",
   "id": "35d7ff3f-6d22-4fb2-a1fc-b7c92361bcee",
   "metadata": {},
   "source": [
    "## For Loops ##"
   ]
  },
  {
   "cell_type": "markdown",
   "id": "be9df58e-353c-42e3-bf74-1dc674a57337",
   "metadata": {},
   "source": [
    "Los loops ofrecen una forma rápida y sencilla de repetir una acción varias veces.\n",
    "Los más conocidos son:\n",
    "\n",
    " - For\n",
    " - While\n",
    " - Entre otros"
   ]
  },
  {
   "cell_type": "markdown",
   "id": "b0b8cbfc-2043-435a-bb2e-78b600986b1a",
   "metadata": {},
   "source": [
    "**For loop:**"
   ]
  },
  {
   "cell_type": "markdown",
   "id": "60f4e2af-d845-4ba5-a476-5d22f84517f5",
   "metadata": {},
   "source": [
    "**FOR** se utiliza para repetir bloques de código, pero a diferencia del *WHILE* donde se dependía de una condición (TRUE, FALSE), el bucle FOR finaliza cuando ya no tiene más elementos que iterar.\n",
    "Son muy flexibles de usar y se pueden aplicar a varias estructuras de datos. Podemos crear un loop del largo que queramos."
   ]
  },
  {
   "cell_type": "code",
   "execution_count": 1,
   "id": "5a25694f-a6ec-42b5-8480-50e617b5fd7d",
   "metadata": {},
   "outputs": [
    {
     "name": "stdout",
     "output_type": "stream",
     "text": [
      "20\n",
      "30\n",
      "40\n",
      "50\n"
     ]
    }
   ],
   "source": [
    "#Ejemplo\n",
    "#Creamos una lista\n",
    "w = [10,20,30,40]\n",
    "#Creamos un for loop\n",
    "for n in w:\n",
    "    print(n+10)"
   ]
  },
  {
   "cell_type": "markdown",
   "id": "11a4d188-6e9c-4a0c-b435-dcbfb250ae4a",
   "metadata": {},
   "source": [
    "**While loop:**\n"
   ]
  },
  {
   "cell_type": "markdown",
   "id": "3dfc5577-dbb0-4be6-8c18-e5469fac7c6c",
   "metadata": {},
   "source": [
    "Ejecuta una sección de código en base a una **condición**, al igual que el control \"**if else**\". Sin embargo, ejecutará el código mientras la condición se mantenga. El código dentro del dominio del *while* se ejecutará siempre y cuando la condición se mantenga."
   ]
  },
  {
   "cell_type": "markdown",
   "id": "46678444-85a7-408a-b844-a4bbd82de7ac",
   "metadata": {},
   "source": [
    "Estructura del *while*:\n",
    "\n",
    "*while (condición):*\n",
    "\n",
    "      (código)"
   ]
  },
  {
   "cell_type": "code",
   "execution_count": 2,
   "id": "b95d2b51-3136-45b4-8213-b19c9af80066",
   "metadata": {},
   "outputs": [
    {
     "name": "stdout",
     "output_type": "stream",
     "text": [
      "0\n",
      "1\n",
      "2\n",
      "3\n"
     ]
    }
   ],
   "source": [
    "#Ejemplo\n",
    "x=0\n",
    "while(x<4):\n",
    "    print(x)\n",
    "    x=x+1"
   ]
  },
  {
   "cell_type": "markdown",
   "id": "ea283422-d38e-4039-adf5-ef311cbbbf6b",
   "metadata": {},
   "source": [
    "## Tarea ##"
   ]
  },
  {
   "cell_type": "markdown",
   "id": "82f15ba4-ee12-4948-a4b6-77dcc75caac4",
   "metadata": {},
   "source": [
    "1) Crear una lista con 4 números y realizar un FOR que le reste 3 a cada elemento de nuestra lista."
   ]
  },
  {
   "cell_type": "code",
   "execution_count": 4,
   "id": "9773ad50-6fd4-4201-bd4d-f338cb5529c0",
   "metadata": {},
   "outputs": [
    {
     "name": "stdout",
     "output_type": "stream",
     "text": [
      "-2\n",
      "-1\n",
      "0\n",
      "1\n"
     ]
    }
   ],
   "source": [
    "lista = [1,2,3,4]\n",
    "for n in lista:\n",
    "    print(n-3)"
   ]
  }
 ],
 "metadata": {
  "kernelspec": {
   "display_name": "Python 3 (ipykernel)",
   "language": "python",
   "name": "python3"
  },
  "language_info": {
   "codemirror_mode": {
    "name": "ipython",
    "version": 3
   },
   "file_extension": ".py",
   "mimetype": "text/x-python",
   "name": "python",
   "nbconvert_exporter": "python",
   "pygments_lexer": "ipython3",
   "version": "3.8.12"
  }
 },
 "nbformat": 4,
 "nbformat_minor": 5
}
