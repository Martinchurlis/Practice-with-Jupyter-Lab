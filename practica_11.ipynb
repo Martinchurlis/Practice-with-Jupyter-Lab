{
 "cells": [
  {
   "cell_type": "markdown",
   "id": "5853b167-71a0-4a0d-8808-98ec6e859e3f",
   "metadata": {},
   "source": [
    "## Importar/Exportar CSV y Excel ##"
   ]
  },
  {
   "cell_type": "markdown",
   "id": "b0790cb8-e8b4-4ce0-96b7-73270728f50a",
   "metadata": {},
   "source": [
    "Lo primero que debemos hacer es importar Pandas para poder leer este tipo de archivos."
   ]
  },
  {
   "cell_type": "code",
   "execution_count": 1,
   "id": "4ba46da1-d048-4e8d-99db-06afbbe74de5",
   "metadata": {},
   "outputs": [],
   "source": [
    "import pandas as pd"
   ]
  },
  {
   "cell_type": "markdown",
   "id": "042b3c1e-2576-4cd4-b50a-5dd1c2c4a4ea",
   "metadata": {},
   "source": [
    "**Leer EXCEL:** "
   ]
  },
  {
   "cell_type": "markdown",
   "id": "85e8b20b-d41c-4871-a615-5c37a2234ec7",
   "metadata": {},
   "source": [
    "Debemos importar el archivo mediante su ruta de acceso."
   ]
  },
  {
   "cell_type": "code",
   "execution_count": 6,
   "id": "696a16d8-9627-4e54-82c1-37be9f4efddd",
   "metadata": {},
   "outputs": [
    {
     "data": {
      "text/html": [
       "<div>\n",
       "<style scoped>\n",
       "    .dataframe tbody tr th:only-of-type {\n",
       "        vertical-align: middle;\n",
       "    }\n",
       "\n",
       "    .dataframe tbody tr th {\n",
       "        vertical-align: top;\n",
       "    }\n",
       "\n",
       "    .dataframe thead th {\n",
       "        text-align: right;\n",
       "    }\n",
       "</style>\n",
       "<table border=\"1\" class=\"dataframe\">\n",
       "  <thead>\n",
       "    <tr style=\"text-align: right;\">\n",
       "      <th></th>\n",
       "      <th>Nombre</th>\n",
       "      <th>Apellido</th>\n",
       "      <th>Edad</th>\n",
       "    </tr>\n",
       "  </thead>\n",
       "  <tbody>\n",
       "    <tr>\n",
       "      <th>0</th>\n",
       "      <td>Martin</td>\n",
       "      <td>Alvarez</td>\n",
       "      <td>23</td>\n",
       "    </tr>\n",
       "    <tr>\n",
       "      <th>1</th>\n",
       "      <td>Renzo</td>\n",
       "      <td>Perez</td>\n",
       "      <td>45</td>\n",
       "    </tr>\n",
       "    <tr>\n",
       "      <th>2</th>\n",
       "      <td>Agustin</td>\n",
       "      <td>Perez</td>\n",
       "      <td>34</td>\n",
       "    </tr>\n",
       "    <tr>\n",
       "      <th>3</th>\n",
       "      <td>Joaquin</td>\n",
       "      <td>Sosa</td>\n",
       "      <td>46</td>\n",
       "    </tr>\n",
       "    <tr>\n",
       "      <th>4</th>\n",
       "      <td>Alberto</td>\n",
       "      <td>Garcia</td>\n",
       "      <td>43</td>\n",
       "    </tr>\n",
       "  </tbody>\n",
       "</table>\n",
       "</div>"
      ],
      "text/plain": [
       "    Nombre Apellido  Edad\n",
       "0   Martin  Alvarez    23\n",
       "1    Renzo    Perez    45\n",
       "2  Agustin    Perez    34\n",
       "3  Joaquin     Sosa    46\n",
       "4  Alberto   Garcia    43"
      ]
     },
     "execution_count": 6,
     "metadata": {},
     "output_type": "execute_result"
    }
   ],
   "source": [
    "ruta_exc = \"C:/Users/marti/Desktop/Jupyter/practica_jupyter/ejemplo.xlsx\"\n",
    "exc = pd.read_excel(ruta_exc)\n",
    "exc"
   ]
  },
  {
   "cell_type": "markdown",
   "id": "6af579ac-e3f8-49fc-ba5e-2730d30d44c8",
   "metadata": {},
   "source": [
    "Hay que tener encuenta que por defecto las rutas de direcciones en Windows vienen con slash invertido, hay que cambiarlas manualmente a \"/\"."
   ]
  },
  {
   "cell_type": "markdown",
   "id": "8fed1acc-0a6e-450f-8477-455e15490096",
   "metadata": {},
   "source": [
    "**Leer CSV:**"
   ]
  },
  {
   "cell_type": "markdown",
   "id": "33ae8905-c6d6-4405-894e-0906e802f0d2",
   "metadata": {},
   "source": [
    "Otra forma de copiar las direcciones es solamtente copiando una parte del path y agregando puntos antes de las barras. Si en el path copiamos el nombre de la carpeta que contiene al archivo que queremos leer, entonces debemos poner dos puntos antes del slash."
   ]
  },
  {
   "cell_type": "code",
   "execution_count": 17,
   "id": "90c42ee0-0283-4b64-8119-d7df21e7141a",
   "metadata": {},
   "outputs": [
    {
     "data": {
      "text/html": [
       "<div>\n",
       "<style scoped>\n",
       "    .dataframe tbody tr th:only-of-type {\n",
       "        vertical-align: middle;\n",
       "    }\n",
       "\n",
       "    .dataframe tbody tr th {\n",
       "        vertical-align: top;\n",
       "    }\n",
       "\n",
       "    .dataframe thead th {\n",
       "        text-align: right;\n",
       "    }\n",
       "</style>\n",
       "<table border=\"1\" class=\"dataframe\">\n",
       "  <thead>\n",
       "    <tr style=\"text-align: right;\">\n",
       "      <th></th>\n",
       "      <th>country</th>\n",
       "      <th>followers</th>\n",
       "      <th>mentions</th>\n",
       "      <th>retweets</th>\n",
       "    </tr>\n",
       "  </thead>\n",
       "  <tbody>\n",
       "    <tr>\n",
       "      <th>0</th>\n",
       "      <td>BRASIL</td>\n",
       "      <td>6166.0</td>\n",
       "      <td>19.600</td>\n",
       "      <td>145.0</td>\n",
       "    </tr>\n",
       "    <tr>\n",
       "      <th>1</th>\n",
       "      <td>ECUADOR</td>\n",
       "      <td>2884.0</td>\n",
       "      <td>11.875</td>\n",
       "      <td>146.0</td>\n",
       "    </tr>\n",
       "    <tr>\n",
       "      <th>2</th>\n",
       "      <td>MEXICO</td>\n",
       "      <td>123.0</td>\n",
       "      <td>13.750</td>\n",
       "      <td>130.0</td>\n",
       "    </tr>\n",
       "  </tbody>\n",
       "</table>\n",
       "</div>"
      ],
      "text/plain": [
       "   country  followers  mentions  retweets\n",
       "0   BRASIL     6166.0    19.600     145.0\n",
       "1  ECUADOR     2884.0    11.875     146.0\n",
       "2   MEXICO      123.0    13.750     130.0"
      ]
     },
     "execution_count": 17,
     "metadata": {},
     "output_type": "execute_result"
    }
   ],
   "source": [
    "ruta_csv = \"../practica_jupyter/salida.csv\"\n",
    "csv = pd.read_csv(ruta_csv)\n",
    "csv"
   ]
  },
  {
   "cell_type": "markdown",
   "id": "dd180f5c-8c92-4458-a77f-0152d1be0990",
   "metadata": {},
   "source": [
    "De otra manera, si el archivo que queremos leer está en la misma carpeta que en la que nos encontramos, no hace falta especificarle mucho, tan solo basta con poner un solo punto antes del slash y el nombre del archivo."
   ]
  },
  {
   "cell_type": "code",
   "execution_count": 19,
   "id": "98e840f1-85af-4f91-a00d-9fe09cc5f195",
   "metadata": {},
   "outputs": [
    {
     "data": {
      "text/html": [
       "<div>\n",
       "<style scoped>\n",
       "    .dataframe tbody tr th:only-of-type {\n",
       "        vertical-align: middle;\n",
       "    }\n",
       "\n",
       "    .dataframe tbody tr th {\n",
       "        vertical-align: top;\n",
       "    }\n",
       "\n",
       "    .dataframe thead th {\n",
       "        text-align: right;\n",
       "    }\n",
       "</style>\n",
       "<table border=\"1\" class=\"dataframe\">\n",
       "  <thead>\n",
       "    <tr style=\"text-align: right;\">\n",
       "      <th></th>\n",
       "      <th>country</th>\n",
       "      <th>followers</th>\n",
       "      <th>mentions</th>\n",
       "      <th>retweets</th>\n",
       "    </tr>\n",
       "  </thead>\n",
       "  <tbody>\n",
       "    <tr>\n",
       "      <th>0</th>\n",
       "      <td>BRASIL</td>\n",
       "      <td>6166.0</td>\n",
       "      <td>19.600</td>\n",
       "      <td>145.0</td>\n",
       "    </tr>\n",
       "    <tr>\n",
       "      <th>1</th>\n",
       "      <td>ECUADOR</td>\n",
       "      <td>2884.0</td>\n",
       "      <td>11.875</td>\n",
       "      <td>146.0</td>\n",
       "    </tr>\n",
       "    <tr>\n",
       "      <th>2</th>\n",
       "      <td>MEXICO</td>\n",
       "      <td>123.0</td>\n",
       "      <td>13.750</td>\n",
       "      <td>130.0</td>\n",
       "    </tr>\n",
       "  </tbody>\n",
       "</table>\n",
       "</div>"
      ],
      "text/plain": [
       "   country  followers  mentions  retweets\n",
       "0   BRASIL     6166.0    19.600     145.0\n",
       "1  ECUADOR     2884.0    11.875     146.0\n",
       "2   MEXICO      123.0    13.750     130.0"
      ]
     },
     "execution_count": 19,
     "metadata": {},
     "output_type": "execute_result"
    }
   ],
   "source": [
    "ruta_csv = \"./salida.csv\"\n",
    "csv = pd.read_csv(ruta_csv)\n",
    "csv"
   ]
  },
  {
   "cell_type": "markdown",
   "id": "e9e6f101-c854-44df-b892-02815e3830ef",
   "metadata": {},
   "source": [
    "**Exportar data frame en formato CSV y Excel:**"
   ]
  },
  {
   "cell_type": "markdown",
   "id": "09229aa4-b001-47af-8d8a-e21ed9840d05",
   "metadata": {},
   "source": [
    "Para este ejemplo primero crearemos un data frame:"
   ]
  },
  {
   "cell_type": "code",
   "execution_count": 21,
   "id": "acb4867a-98d9-4d13-ba54-b54c9cd23a50",
   "metadata": {},
   "outputs": [
    {
     "data": {
      "text/html": [
       "<div>\n",
       "<style scoped>\n",
       "    .dataframe tbody tr th:only-of-type {\n",
       "        vertical-align: middle;\n",
       "    }\n",
       "\n",
       "    .dataframe tbody tr th {\n",
       "        vertical-align: top;\n",
       "    }\n",
       "\n",
       "    .dataframe thead th {\n",
       "        text-align: right;\n",
       "    }\n",
       "</style>\n",
       "<table border=\"1\" class=\"dataframe\">\n",
       "  <thead>\n",
       "    <tr style=\"text-align: right;\">\n",
       "      <th></th>\n",
       "      <th>a</th>\n",
       "      <th>b</th>\n",
       "      <th>c</th>\n",
       "    </tr>\n",
       "  </thead>\n",
       "  <tbody>\n",
       "    <tr>\n",
       "      <th>0</th>\n",
       "      <td>1</td>\n",
       "      <td>5</td>\n",
       "      <td>1</td>\n",
       "    </tr>\n",
       "    <tr>\n",
       "      <th>1</th>\n",
       "      <td>2</td>\n",
       "      <td>4</td>\n",
       "      <td>3</td>\n",
       "    </tr>\n",
       "    <tr>\n",
       "      <th>2</th>\n",
       "      <td>3</td>\n",
       "      <td>3</td>\n",
       "      <td>5</td>\n",
       "    </tr>\n",
       "    <tr>\n",
       "      <th>3</th>\n",
       "      <td>4</td>\n",
       "      <td>2</td>\n",
       "      <td>7</td>\n",
       "    </tr>\n",
       "    <tr>\n",
       "      <th>4</th>\n",
       "      <td>5</td>\n",
       "      <td>1</td>\n",
       "      <td>8</td>\n",
       "    </tr>\n",
       "  </tbody>\n",
       "</table>\n",
       "</div>"
      ],
      "text/plain": [
       "   a  b  c\n",
       "0  1  5  1\n",
       "1  2  4  3\n",
       "2  3  3  5\n",
       "3  4  2  7\n",
       "4  5  1  8"
      ]
     },
     "execution_count": 21,
     "metadata": {},
     "output_type": "execute_result"
    }
   ],
   "source": [
    "#Creamos un diccionario\n",
    "di={\"a\":[1,2,3,4,5],\n",
    "    \"b\":[5,4,3,2,1],\n",
    "    \"c\":[1,3,5,7,8]\n",
    "}\n",
    "#Creamos el Data Frame\n",
    "df = pd.DataFrame(data = di)\n",
    "df"
   ]
  },
  {
   "cell_type": "markdown",
   "id": "7d16237f-c2fb-4ec6-b999-75e8df4ff839",
   "metadata": {},
   "source": [
    "Para exportar este data frame en formato **Excel (xlsx)**, el comando es el siguiente:"
   ]
  },
  {
   "cell_type": "code",
   "execution_count": 23,
   "id": "879f6a38-9cbf-4454-bb2e-c7ffe2bcc3f2",
   "metadata": {},
   "outputs": [],
   "source": [
    "df.to_excel(\"df.xlsx\",index = False)"
   ]
  },
  {
   "cell_type": "markdown",
   "id": "d4fd549f-53b7-4791-815d-059c71f8c3d3",
   "metadata": {},
   "source": [
    "En este caso, solamente se especificó el nombre del archivo por que se guardó directamente en la carpeta en la que nos encontramos, de otra manera habría que poner el path completo de la carpeta en la cual queramos pegarlo. Por otro lado el comando *index = False* se utiliza para eliminar los indices del data frame (0,1,2,...), y no mostrarlos en Excel. "
   ]
  },
  {
   "cell_type": "markdown",
   "id": "6cd87206-1894-4548-917f-2f201c66137e",
   "metadata": {},
   "source": [
    "Para exportar este data frame en formato **CSV**, el comando es el siguiente:"
   ]
  },
  {
   "cell_type": "code",
   "execution_count": 25,
   "id": "26503c4d-f802-442f-8eba-299b189fd9ab",
   "metadata": {},
   "outputs": [],
   "source": [
    "df.to_csv(\"../practica_jupyter/df.csv\",index = False)\n"
   ]
  },
  {
   "cell_type": "markdown",
   "id": "97346ed5-c376-4faa-8a4c-c56a0f70ed5e",
   "metadata": {},
   "source": [
    "En este caso se copió el path entero para poder especificar la dirección en la cual queremos guardar el archivo."
   ]
  },
  {
   "cell_type": "markdown",
   "id": "e0928f2e-3278-40c2-989b-72b9609e6a8d",
   "metadata": {},
   "source": [
    "**Observación:** El formato CSV separa todas las variables con comas, siendo así un formato de texto plano. A diferencia de el formato xls que contiene todos sus valores puestos en diferentes celdas, siendo un formato de archivo binario.\n",
    "Los archivos CSV tienen mucha mas compatibilidad y son ampliamente soportados por las distintas funciones de Python."
   ]
  }
 ],
 "metadata": {
  "kernelspec": {
   "display_name": "Python 3 (ipykernel)",
   "language": "python",
   "name": "python3"
  },
  "language_info": {
   "codemirror_mode": {
    "name": "ipython",
    "version": 3
   },
   "file_extension": ".py",
   "mimetype": "text/x-python",
   "name": "python",
   "nbconvert_exporter": "python",
   "pygments_lexer": "ipython3",
   "version": "3.8.12"
  }
 },
 "nbformat": 4,
 "nbformat_minor": 5
}
