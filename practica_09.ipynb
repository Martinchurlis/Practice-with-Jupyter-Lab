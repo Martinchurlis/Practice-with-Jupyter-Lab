{
 "cells": [
  {
   "cell_type": "markdown",
   "id": "62dceffb-28f8-4cdc-b425-7b919a46f4a4",
   "metadata": {},
   "source": [
    "## Condicionales ##\n"
   ]
  },
  {
   "cell_type": "markdown",
   "id": "dd01a0d0-11b1-46c8-8f69-9c5ddbe11da4",
   "metadata": {},
   "source": [
    "Son estructuras de código que permiten comprobar si una expresión es **verdadera o falsa**, y despues ejecuta un código diferente dependiendo del resultado."
   ]
  },
  {
   "cell_type": "markdown",
   "id": "5982f1bf-bdd2-4962-9e2b-5f424b470945",
   "metadata": {},
   "source": [
    "La forma de condicional más común es la llamada **If - elif - else**."
   ]
  },
  {
   "cell_type": "markdown",
   "id": "e18e304b-7dbd-4f49-95bf-f65d76ab8e7e",
   "metadata": {},
   "source": [
    "La estructura es la siguiente: \n",
    "\n",
    "*if (condición_1):*\n",
    "   \n",
    "      instrucción_1\n",
    "\n",
    "*elif (condición_2):*\n",
    "    \n",
    "      instrucción_2\n",
    "\n",
    "*else (condición_3):*\n",
    "    \n",
    "      instrucción_3"
   ]
  },
  {
   "cell_type": "code",
   "execution_count": 10,
   "id": "60e3236a-f85f-421c-8ffc-fcae163fb8e1",
   "metadata": {},
   "outputs": [
    {
     "name": "stdout",
     "output_type": "stream",
     "text": [
      "Es mayor a 30\n"
     ]
    }
   ],
   "source": [
    "num = 45\n",
    "if(num>30):\n",
    "    print(\"Es mayor a 30\")"
   ]
  },
  {
   "cell_type": "markdown",
   "id": "ad21950a-b058-437a-a208-a987c0f869f4",
   "metadata": {},
   "source": [
    "También se pueden poner varias condiciónes que deben cumplirse al mismo tiempo dentro del if.\n"
   ]
  },
  {
   "cell_type": "code",
   "execution_count": 13,
   "id": "3ccfb434-8c9e-4622-a963-16a89c40a4b0",
   "metadata": {},
   "outputs": [
    {
     "name": "stdout",
     "output_type": "stream",
     "text": [
      "Es mayor a 30 y menor que 50\n"
     ]
    }
   ],
   "source": [
    "if(num < 50 and num > 30):\n",
    "    print(\"Es mayor a 30 y menor que 50\")"
   ]
  },
  {
   "cell_type": "code",
   "execution_count": 15,
   "id": "3f12997f-ac33-4307-bcae-d60faad130f6",
   "metadata": {},
   "outputs": [
    {
     "name": "stdout",
     "output_type": "stream",
     "text": [
      "Hola\n"
     ]
    }
   ],
   "source": [
    "num2=100 \n",
    "if(num2<100 or num2==100):\n",
    "    print(\"Hola\")"
   ]
  },
  {
   "cell_type": "markdown",
   "id": "1040d2cf-0265-488d-9c7f-31b32db3a95c",
   "metadata": {},
   "source": [
    "Para evaluar dos condiciones diferentes que no necesariamente deben ocurrir al mismo tiempo se emplea *elif* y *else*."
   ]
  },
  {
   "cell_type": "code",
   "execution_count": 16,
   "id": "5292ef81-d512-4550-a10b-b5965ae20d39",
   "metadata": {},
   "outputs": [
    {
     "name": "stdout",
     "output_type": "stream",
     "text": [
      "Es igual a 45\n"
     ]
    }
   ],
   "source": [
    "if(num>45):\n",
    "    print(\"Es mayor a 45\")\n",
    "elif(num==45):\n",
    "    print(\"Es igual a 45\")\n",
    "else: #No hace falta condición por que es lo que ocurrirá si las demás no ocurren\n",
    "    print(\"Es menor a 45\")"
   ]
  },
  {
   "cell_type": "markdown",
   "id": "e25f3829-d99a-4f4c-a8a8-6d83254fa898",
   "metadata": {},
   "source": [
    "Tenemos que tener en cuenta que estas condiciones se van valuando de forma descendente (de forma riveriana). Por esto, la primera que se cumpla es la que aparecerá."
   ]
  },
  {
   "cell_type": "markdown",
   "id": "a10b3136-2d47-411b-98e6-5c36f42be908",
   "metadata": {},
   "source": [
    "## Tarea ##"
   ]
  },
  {
   "cell_type": "markdown",
   "id": "2a633dcf-456b-460d-82b3-874ca825a02c",
   "metadata": {},
   "source": [
    "1) Crear una variable numérica (cualquier valor), crear un condicional que imprima \"es mayor\" o \"es menor\", si es que nuestra variable es mayor o menor respectivamente a la condición."
   ]
  },
  {
   "cell_type": "code",
   "execution_count": 303,
   "id": "a1885539-362c-4443-80b6-03329b25ff96",
   "metadata": {},
   "outputs": [
    {
     "name": "stdout",
     "output_type": "stream",
     "text": [
      "18\n",
      "Es menor a 50\n"
     ]
    }
   ],
   "source": [
    "import random as ran\n",
    "var=ran.randint(1,100)\n",
    "print(var)\n",
    "if(var>50):\n",
    "    print(\"Es mayor a 50\")\n",
    "elif(var==50):\n",
    "    print(\"Es igual a 50\")\n",
    "else:\n",
    "    print(\"Es menor a 50\")"
   ]
  },
  {
   "cell_type": "code",
   "execution_count": null,
   "id": "ac72411f-297f-4812-b1c0-a17821aa5a08",
   "metadata": {},
   "outputs": [],
   "source": []
  }
 ],
 "metadata": {
  "kernelspec": {
   "display_name": "Python 3 (ipykernel)",
   "language": "python",
   "name": "python3"
  },
  "language_info": {
   "codemirror_mode": {
    "name": "ipython",
    "version": 3
   },
   "file_extension": ".py",
   "mimetype": "text/x-python",
   "name": "python",
   "nbconvert_exporter": "python",
   "pygments_lexer": "ipython3",
   "version": "3.8.12"
  }
 },
 "nbformat": 4,
 "nbformat_minor": 5
}
