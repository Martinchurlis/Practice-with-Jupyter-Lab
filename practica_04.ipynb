{
 "cells": [
  {
   "cell_type": "markdown",
   "id": "02598a62-efbb-45e0-a599-b69d2f14d3ca",
   "metadata": {},
   "source": [
    "## Tuplas ##\n"
   ]
  },
  {
   "cell_type": "markdown",
   "id": "c9100a65-3811-4142-98d2-5860002c0f1b",
   "metadata": {},
   "source": [
    "Son un conjunto de elementos ordenados, similares a las listas. \n",
    "La gran diferencia es que sus elementos **no pueden ser modificados**.\n",
    "Se escriben entre **( )**"
   ]
  },
  {
   "cell_type": "code",
   "execution_count": 2,
   "id": "e1d4ee32-e99f-44c8-8512-9af8165e6742",
   "metadata": {},
   "outputs": [
    {
     "data": {
      "text/plain": [
       "('perro', True, 14, [12, 15, 14])"
      ]
     },
     "execution_count": 2,
     "metadata": {},
     "output_type": "execute_result"
    }
   ],
   "source": [
    "tup = (\"perro\", True, 14, [12,15,14])\n",
    "tup\n"
   ]
  },
  {
   "cell_type": "code",
   "execution_count": 3,
   "id": "e2c2e1ee-121a-4eba-8969-67f1e9e1846e",
   "metadata": {},
   "outputs": [
    {
     "data": {
      "text/plain": [
       "tuple"
      ]
     },
     "execution_count": 3,
     "metadata": {},
     "output_type": "execute_result"
    }
   ],
   "source": [
    "type(tup)"
   ]
  },
  {
   "cell_type": "code",
   "execution_count": 4,
   "id": "9387198d-d4f4-4d7c-b0a0-26c857bb81b9",
   "metadata": {},
   "outputs": [
    {
     "data": {
      "text/plain": [
       "14"
      ]
     },
     "execution_count": 4,
     "metadata": {},
     "output_type": "execute_result"
    }
   ],
   "source": [
    "tup[2]"
   ]
  },
  {
   "cell_type": "markdown",
   "id": "e773ea67-46bd-430f-bf60-e3481025ef4f",
   "metadata": {},
   "source": [
    "## Tarea ##"
   ]
  },
  {
   "cell_type": "markdown",
   "id": "f2febdfb-9ac6-4ad9-b7af-840b604b43e8",
   "metadata": {},
   "source": [
    "1. Crear una tupla de 3 elementos."
   ]
  },
  {
   "cell_type": "code",
   "execution_count": 6,
   "id": "7779af36-1f54-42e9-9551-dc38a3072554",
   "metadata": {},
   "outputs": [
    {
     "data": {
      "text/plain": [
       "(1, 'hola', [0, 0, 0])"
      ]
     },
     "execution_count": 6,
     "metadata": {},
     "output_type": "execute_result"
    }
   ],
   "source": [
    "tupla = (1,\"hola\",[0,0,0])\n",
    "tupla"
   ]
  }
 ],
 "metadata": {
  "kernelspec": {
   "display_name": "Python 3 (ipykernel)",
   "language": "python",
   "name": "python3"
  },
  "language_info": {
   "codemirror_mode": {
    "name": "ipython",
    "version": 3
   },
   "file_extension": ".py",
   "mimetype": "text/x-python",
   "name": "python",
   "nbconvert_exporter": "python",
   "pygments_lexer": "ipython3",
   "version": "3.8.12"
  }
 },
 "nbformat": 4,
 "nbformat_minor": 5
}
