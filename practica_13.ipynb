{
 "cells": [
  {
   "cell_type": "markdown",
   "id": "fff2b19b-2d37-4174-a774-d42f7ed383b4",
   "metadata": {},
   "source": [
    "## Shape Files"
   ]
  },
  {
   "cell_type": "markdown",
   "id": "c3f74d80-2fe2-4a42-8ffb-09be87c28c2b",
   "metadata": {},
   "source": [
    "Shapefile es un formato de almacenamiento de datos vectoriales de **Esri** (Environmental Systems Research Institute) para almacenar la ubicación, la forma y los atributos de las entidades geográficas. Un shapefile se almacena en un conjunto de archivos relacionados y contiene una clase de entidad.\n",
    "A continuación cargaremos un archivo de extensón *.shp*."
   ]
  },
  {
   "cell_type": "markdown",
   "id": "f7838fba-6b27-4400-b750-7062df61666e",
   "metadata": {},
   "source": [
    "**Cargamos el shape**"
   ]
  },
  {
   "cell_type": "code",
   "execution_count": null,
   "id": "ccf448b4-a4e2-44ef-a464-4558a3bdf52f",
   "metadata": {},
   "outputs": [],
   "source": [
    "import geopandas as gpd"
   ]
  },
  {
   "cell_type": "code",
   "execution_count": null,
   "id": "da28d442-63da-4df3-8aac-e7da91fd54ed",
   "metadata": {},
   "outputs": [],
   "source": [
    "#Cargamos el shape\n",
    "shp = gpd.read_file(\"../archivos_st_py/vector/PNLCampana.shp\")"
   ]
  },
  {
   "cell_type": "code",
   "execution_count": null,
   "id": "4dce575c-3500-4c66-9565-c4f14212e67c",
   "metadata": {},
   "outputs": [],
   "source": [
    "#Vemos la tabla de atributos del shape\n",
    "shp"
   ]
  },
  {
   "cell_type": "markdown",
   "id": "6f65767b-0c4c-4375-b001-3acad53c4a84",
   "metadata": {},
   "source": [
    "**Visualizamos el Shape**"
   ]
  },
  {
   "cell_type": "code",
   "execution_count": null,
   "id": "73c306cd-534d-4558-a88a-2ab6c80b9421",
   "metadata": {},
   "outputs": [],
   "source": [
    "#Graficamos el shape\n",
    "\n",
    "shp.plot()"
   ]
  },
  {
   "cell_type": "code",
   "execution_count": null,
   "id": "438f2d0b-3a7a-4b99-9b4e-9f4ddb9bd017",
   "metadata": {},
   "outputs": [],
   "source": [
    "#Visualizar de manera interactiva\n",
    "shp.explore()"
   ]
  },
  {
   "cell_type": "markdown",
   "id": "82fd98aa-7142-4a79-ac3c-67be3cd89894",
   "metadata": {},
   "source": [
    "**Cambiar el CRS (Sistema de Referencia de Coordenadas) de un Shapefile**"
   ]
  },
  {
   "cell_type": "markdown",
   "id": "a916cc9f-75bb-420c-9d96-505f99b92134",
   "metadata": {},
   "source": [
    "Un **Coordinate reference system** CRS define cómo el mapa proyectado bidimensional es un SIG se relaciona con lugares reales en la tierra. "
   ]
  },
  {
   "cell_type": "code",
   "execution_count": null,
   "id": "80ec8450-dc6f-4ef8-8305-fc40d8dba8aa",
   "metadata": {},
   "outputs": [],
   "source": [
    "#Ver el CRS actual\n",
    "shp.crs"
   ]
  },
  {
   "cell_type": "markdown",
   "id": "c20a7d13-e94b-4aa3-933f-62e0f8f2ce07",
   "metadata": {},
   "source": [
    "Lo que queremos ahora es cambiar su **CRS** a **UTM** zona 19s utilizando su código EPSG. Es decir, lo tenemos en coordenadas geograficas, y lo queremos pasar a coordenadas UTM."
   ]
  },
  {
   "cell_type": "code",
   "execution_count": null,
   "id": "bb580a29-f2e5-4173-b260-19948d9b0fe2",
   "metadata": {},
   "outputs": [],
   "source": [
    "shp_rep = shp.to_crs(epsg=32719)\n",
    "shp_rep.crs"
   ]
  },
  {
   "cell_type": "markdown",
   "id": "accc75ba-fa13-469d-8520-4b800f3a0444",
   "metadata": {},
   "source": [
    "En la forma de graficar no cambia en nada, solo cambia el sistema de referencias."
   ]
  },
  {
   "cell_type": "code",
   "execution_count": null,
   "id": "6d1c0f68-4606-4554-9ce6-0b6600a53b37",
   "metadata": {},
   "outputs": [],
   "source": [
    "shp_rep.explore()"
   ]
  },
  {
   "cell_type": "markdown",
   "id": "985825b6-4abc-431e-a302-ac32a8f06b6c",
   "metadata": {},
   "source": [
    "**Exportar Shapefile**"
   ]
  },
  {
   "cell_type": "code",
   "execution_count": null,
   "id": "24b742fc-2be3-4ecf-beaf-802da2406f84",
   "metadata": {},
   "outputs": [],
   "source": [
    "shp_rep.to_file(\"../practica_jupyter/shape/la_campana_utm.shp\")"
   ]
  },
  {
   "cell_type": "markdown",
   "id": "f4de8efa-2b0d-4f37-8a1d-e5bd496bd121",
   "metadata": {},
   "source": [
    "**Limpiar Shape**"
   ]
  },
  {
   "cell_type": "markdown",
   "id": "66eed69a-d6ba-4b51-8f0b-71d1f6bdc316",
   "metadata": {},
   "source": [
    "Puede ocurrir que un Shapefile tenga muchas columnas con datos que muchas veces son innecesarios, para esto podemos quedarnos tan solo con las columnas de información que necesitemos."
   ]
  },
  {
   "cell_type": "code",
   "execution_count": null,
   "id": "80924271-a9b8-42be-8b71-2be02208db52",
   "metadata": {},
   "outputs": [],
   "source": [
    "#importamos Geopandas\n",
    "import geopandas as gpd"
   ]
  },
  {
   "cell_type": "code",
   "execution_count": null,
   "id": "5fd053df-b939-4adb-88aa-413262d6af25",
   "metadata": {},
   "outputs": [],
   "source": [
    "#Cargamos el shape\n",
    "shp = gpd.read_file(\"../archivos_st_py/vector/snaspe.shp\") \n",
    "shp"
   ]
  },
  {
   "cell_type": "markdown",
   "id": "c5fb89dd-a6d8-4edf-9e59-0564be83f81d",
   "metadata": {},
   "source": [
    "Vamos a quedarnos solo con las columnas que nos interesan, y ademas vamos a cambiarle sus nombres."
   ]
  },
  {
   "cell_type": "code",
   "execution_count": null,
   "id": "20c1d0c4-6df7-4457-987a-103434b5dcf8",
   "metadata": {},
   "outputs": [],
   "source": [
    "# Seleccionamos las columnas\n",
    "shp_li = shp[[\"st_area_sh\",\"Nombre\",\"Tipo_Snasp\",\"Region\",\"Cod_Region\",\"geometry\"]]\n",
    "shp_li"
   ]
  },
  {
   "cell_type": "code",
   "execution_count": null,
   "id": "e03dd5ce-bb13-4668-809b-c861a7cbf23c",
   "metadata": {},
   "outputs": [],
   "source": [
    "#Cambiar nombre a las columnas\n",
    "shp_li2 = shp_li.rename(columns={\"st_area_sh\" : \"area\",\n",
    "                                \"Nombre\" : \"nombre\",\n",
    "                                \"Tipo_Snasp\" : \"tipo\",\n",
    "                                \"Region\" : \"region\",\n",
    "                                \"Cod_Region\" : \"cod\"})\n",
    "shp_li2"
   ]
  },
  {
   "cell_type": "code",
   "execution_count": null,
   "id": "cc98d900-c6ff-41ce-aadb-080c51ccd1b4",
   "metadata": {},
   "outputs": [],
   "source": [
    "#Exportamos el shapefile limpio\n",
    "\n",
    "shp_li2.to_file(\"../practica_jupyter/shape/pa_chile.shp\")"
   ]
  },
  {
   "cell_type": "markdown",
   "id": "4b331523-8e99-43ef-8e62-5ebe249c5b3c",
   "metadata": {},
   "source": [
    "## Analizar Shapefile"
   ]
  },
  {
   "cell_type": "markdown",
   "id": "9d47a360-7ea5-44c8-9a85-42ae69b5d593",
   "metadata": {},
   "source": [
    "Para analizar un shapefile debemos utilizar la función *nombre_shapeile.describe()*, esto nos dará una descripción de las columnas numéricas, dandonos su promedio, mínimo, desviación estandar, etc."
   ]
  },
  {
   "cell_type": "code",
   "execution_count": null,
   "id": "a2476348-539e-4fd6-a29a-b1011c6ba952",
   "metadata": {
    "tags": []
   },
   "outputs": [],
   "source": [
    "#Importamos geopandas\n",
    "import geopandas as gpd"
   ]
  },
  {
   "cell_type": "code",
   "execution_count": null,
   "id": "02e6727f-446c-462d-9ab1-bde470f7d381",
   "metadata": {
    "tags": []
   },
   "outputs": [],
   "source": [
    "#Cargamos el shapefile\n",
    "pa_cl = gpd.read_file(\"../practica_jupyter/shape/pa_chile.shp\")\n",
    "pa_cl"
   ]
  },
  {
   "cell_type": "code",
   "execution_count": null,
   "id": "4d6f8840-9b76-4520-8a08-25540fb7f1ce",
   "metadata": {},
   "outputs": [],
   "source": [
    "#Obtenemos una descripción de las columnas numéricas\n",
    "pa_cl.describe()"
   ]
  },
  {
   "cell_type": "markdown",
   "id": "6d733080-4ba0-4573-b36b-0fcf1c88e13c",
   "metadata": {},
   "source": [
    "Sin embargo podemos ver que en el out de arriba hay un error, no podemos obtener una descripción numérica de esta manera de la columna **cod** debido a que esta es una columna categórica que solo se utiliza para poder distinguir los parques."
   ]
  },
  {
   "cell_type": "markdown",
   "id": "54fc1d2c-00bb-4c7c-b1c7-2be93bd0c511",
   "metadata": {},
   "source": [
    "Para esto vamos a modificar esta columna, **pasandola de dato numérico** a **dato categórico** mediante el comando *nombre_shapefile . assing ( )*."
   ]
  },
  {
   "cell_type": "code",
   "execution_count": null,
   "id": "8fc4f05e-0101-40b8-8e57-f8c5944b02b9",
   "metadata": {},
   "outputs": [],
   "source": [
    "#Modificamos columna \"cod\" y la ponemos como dato categorico\n",
    "\n",
    "pa_cl2 = pa_cl.assign(cod = pa_cl[\"cod\"].astype(\"category\")) \n",
    "pa_cl2.describe()"
   ]
  },
  {
   "cell_type": "markdown",
   "id": "37419319-a57b-4f8d-9126-289898878eda",
   "metadata": {},
   "source": [
    "Como vemos, ahora solo tenemos una descripción numérica correcta."
   ]
  },
  {
   "cell_type": "code",
   "execution_count": null,
   "id": "b0d69f7c-7ec8-42d9-9851-2fb75eaf0bae",
   "metadata": {},
   "outputs": [],
   "source": [
    "#Como repaso, para observar la forma de el dataframe\n",
    "pa_cl2.shape"
   ]
  },
  {
   "cell_type": "code",
   "execution_count": null,
   "id": "0dad5341-b9ed-4a36-9f31-76a16ab04c12",
   "metadata": {},
   "outputs": [],
   "source": [
    "#Visualizar los primeros 5 elementos de la tabla \n",
    "pa_cl2.head()"
   ]
  },
  {
   "cell_type": "code",
   "execution_count": null,
   "id": "8a5909a7-b30a-415f-8126-d895ca93ccc5",
   "metadata": {},
   "outputs": [],
   "source": [
    "#Visualizar los últimos 5 elementos de la tabla\n",
    "pa_cl2.tail()"
   ]
  },
  {
   "cell_type": "code",
   "execution_count": null,
   "id": "00e4400a-ce25-4212-aa3b-56c81ae087b6",
   "metadata": {},
   "outputs": [],
   "source": [
    "#Seleccionar las primeras diez filas\n",
    "\n",
    "pa_cl2.iloc[:10]"
   ]
  },
  {
   "cell_type": "markdown",
   "id": "4256da4a-12dd-4bfc-a39c-31e304ad78c4",
   "metadata": {},
   "source": [
    "Un ejemplo interesante es poder agrupar según alguna columna, en este caso según las regiones y en base a eso ver el promedio del área en cada región."
   ]
  },
  {
   "cell_type": "code",
   "execution_count": null,
   "id": "9580dea1-7ac3-4e5b-b904-501f4f9506cb",
   "metadata": {},
   "outputs": [],
   "source": [
    "pa_reg_ar = pa_cl2.groupby(\"region\").agg({\"area\":\"mean\"})\n",
    "pa_reg_ar"
   ]
  },
  {
   "cell_type": "markdown",
   "id": "7186d7f4-af93-459f-bcaf-7f95f60e00ce",
   "metadata": {},
   "source": [
    "Para ordenar estos datos en un orden especifico, podemos utilizar la función *nombre_shapefile.sort_values(\"columna\", condición)*. En este caso vamos a ordenar según el área de mayor a menor."
   ]
  },
  {
   "cell_type": "code",
   "execution_count": null,
   "id": "e0d1f2db-0a71-4189-abdb-6c3920ee88b0",
   "metadata": {},
   "outputs": [],
   "source": [
    "#Ordenamos de mayor a menor\n",
    "pa_reg_ar.sort_values(\"area\", ascending = False)"
   ]
  },
  {
   "cell_type": "markdown",
   "id": "42465bcd-562b-4901-adbd-5c49852b2d00",
   "metadata": {},
   "source": [
    "Otro ejemplo es poder agrupar según el \"tipo\", realizaremos un promedio de todas las áreas y agruparemos de mayor a menor.."
   ]
  },
  {
   "cell_type": "code",
   "execution_count": null,
   "id": "56e2c382-c3d3-4563-945f-90cb2c24f6ee",
   "metadata": {},
   "outputs": [],
   "source": [
    "pa_cl2.groupby(\"tipo\").agg({\"area\":\"mean\"}).sort_values(\"area\", ascending = False)"
   ]
  },
  {
   "cell_type": "markdown",
   "id": "57735f00-3598-49d4-858a-23c98dc8f6d7",
   "metadata": {},
   "source": [
    "## Filtros"
   ]
  },
  {
   "cell_type": "markdown",
   "id": "ebf97335-b2c6-402b-9770-eb90b13dc56c",
   "metadata": {},
   "source": [
    "Para poder filtrar datos de nuestro shapefile debemos utilizar el método *nombre_shape.query ( \"condición\" )*."
   ]
  },
  {
   "cell_type": "code",
   "execution_count": null,
   "id": "335cd859-b404-4b66-ba98-ab4eae932935",
   "metadata": {},
   "outputs": [],
   "source": [
    "#importamos geopandas\n",
    "import geopandas as gpd"
   ]
  },
  {
   "cell_type": "code",
   "execution_count": null,
   "id": "d4fadd60-1b52-4e10-a20b-be9d85e9ed42",
   "metadata": {},
   "outputs": [],
   "source": [
    "#Cargamos el shape limpio\n",
    "pa_cl = gpd.read_file(\"../practica_jupyter/shape/pa_chile.shp\")\n",
    "pa_cl"
   ]
  },
  {
   "cell_type": "code",
   "execution_count": null,
   "id": "9c7bac95-d32c-4462-bcec-e4df24dbb97a",
   "metadata": {},
   "outputs": [],
   "source": [
    "#Filtramos la condición de parques con un area menor a 10\n",
    "pa2 = pa_cl.query(\"area<100\")\n",
    "pa2"
   ]
  },
  {
   "cell_type": "code",
   "execution_count": null,
   "id": "b94e1f81-95d8-464b-af95-93831abecdaf",
   "metadata": {},
   "outputs": [],
   "source": [
    "pa2.explore()"
   ]
  },
  {
   "cell_type": "markdown",
   "id": "f715330d-4331-44fb-90b9-7647a8a4cd9a",
   "metadata": {},
   "source": [
    "Hay que tener en cuenta que el argumento del metodo *query(\" \")* siempre va entre doble comillas, es por esto que si quisieramos ingresar una condición que contemple un string, este deberá ir entre comillas simples."
   ]
  },
  {
   "cell_type": "code",
   "execution_count": null,
   "id": "8a162410-f6c3-452a-84e3-64cc3d7dd77a",
   "metadata": {},
   "outputs": [],
   "source": [
    "pa3 = pa_cl.query(\"tipo == 'Parque'\")\n",
    "pa3.head()"
   ]
  },
  {
   "cell_type": "code",
   "execution_count": null,
   "id": "35e190da-61db-4611-9c58-b8e91ffa6b7c",
   "metadata": {},
   "outputs": [],
   "source": [
    "pa3.explore()"
   ]
  },
  {
   "cell_type": "markdown",
   "id": "894b085e-8d59-4e90-b66d-a05e90dd35cb",
   "metadata": {},
   "source": [
    "Podemos filtrar con dos condiciones:"
   ]
  },
  {
   "cell_type": "code",
   "execution_count": null,
   "id": "f931456c-0421-403b-b91b-45c482695e5e",
   "metadata": {},
   "outputs": [],
   "source": [
    "#Filtrar con dos condiciones, una numérica y una categorica\n",
    "\n",
    "pa4 = pa_cl.query(\"area < 10 & tipo == 'Parque'\")\n",
    "\n",
    "pa4"
   ]
  },
  {
   "cell_type": "markdown",
   "id": "0bde141a-73bb-4e3a-9527-7d576b4b9ae7",
   "metadata": {},
   "source": [
    "**CSV o Excel a Shapefile**"
   ]
  },
  {
   "cell_type": "markdown",
   "id": "d6fc309d-ccf8-461f-bcd8-ad8393e68ffc",
   "metadata": {},
   "source": [
    "En un archivo .csv o .xlsx podríamos tener una lista de puntos con sus coordenadas, estos puntos geograficos podemos representarlos viasualmente a traves de un Shapefile."
   ]
  },
  {
   "cell_type": "markdown",
   "id": "b9c75a83-af33-46dc-a76c-2fd0ed7985a5",
   "metadata": {},
   "source": [
    "A continuación cargamos un archivo .csv con una serie de puntos y definimos su ubicación en el mapa."
   ]
  },
  {
   "cell_type": "code",
   "execution_count": null,
   "id": "08886a01-52bf-4829-9014-d044994b6a5c",
   "metadata": {},
   "outputs": [],
   "source": [
    "import pandas as pd \n",
    "import geopandas as gpd"
   ]
  },
  {
   "cell_type": "code",
   "execution_count": null,
   "id": "bf7d8fc8-857c-42af-a032-3f891dfd6b8b",
   "metadata": {},
   "outputs": [],
   "source": [
    "pts_csv = pd.read_csv(\"../archivos_st_py/csv/ptos.csv\")\n",
    "pts_csv.head()\n",
    "#Con excel es lo mismo, solo sería read_excel"
   ]
  },
  {
   "cell_type": "markdown",
   "id": "9651f0ff-791d-4db8-9f43-2caef2bb9eff",
   "metadata": {},
   "source": [
    "Esta lista, ademas de las coordenadas geográficas, también podría tener una descripción o cualidades acerca de cada uno de estos puntos. En este caso nos dice la cobertura de cada punto."
   ]
  },
  {
   "cell_type": "markdown",
   "id": "bab12b44-d31d-438e-9a0f-6c6bf22f1a56",
   "metadata": {},
   "source": [
    "Creo una nueva shapefile a partir del csv."
   ]
  },
  {
   "cell_type": "code",
   "execution_count": null,
   "id": "2d1f4888-c99e-4d6e-8165-e60236111fd1",
   "metadata": {},
   "outputs": [],
   "source": [
    "ptos_geo = gpd.GeoDataFrame(pts_csv,\n",
    "                            geometry = gpd.points_from_xy(\n",
    "                            pts_csv[\"x\"],pts_csv[\"y\"])).set_crs(\"epsg:32719\")\n",
    "                            "
   ]
  },
  {
   "cell_type": "code",
   "execution_count": null,
   "id": "7e3c44f9-d7ce-46ff-bde8-ddb8d23b1f47",
   "metadata": {},
   "outputs": [],
   "source": [
    "ptos_geo.explore()"
   ]
  },
  {
   "cell_type": "markdown",
   "id": "6e11d2eb-b383-4b51-9763-6a3795e6604e",
   "metadata": {},
   "source": [
    "Por úlitmo, despues de convertir este archivo .csv en .shp, querriamos exportarlo como shape."
   ]
  },
  {
   "cell_type": "code",
   "execution_count": null,
   "id": "2944386a-66be-49aa-9783-464ddc80be44",
   "metadata": {},
   "outputs": [],
   "source": [
    "#Exportar puntos en formato shapefile\n",
    "\n",
    "ptos_geo.to_file(\"../practica_jupyter/shape/puntos.shp\")"
   ]
  }
 ],
 "metadata": {
  "kernelspec": {
   "display_name": "Python 3",
   "language": "python",
   "name": "python3"
  },
  "language_info": {
   "codemirror_mode": {
    "name": "ipython",
    "version": 3
   },
   "file_extension": ".py",
   "mimetype": "text/x-python",
   "name": "python",
   "nbconvert_exporter": "python",
   "pygments_lexer": "ipython3",
   "version": "3.8.8"
  }
 },
 "nbformat": 4,
 "nbformat_minor": 5
}
