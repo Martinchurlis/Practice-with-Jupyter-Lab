{
 "cells": [
  {
   "cell_type": "markdown",
   "id": "f497f4af-098b-4d7f-9d0d-5d0f5e471823",
   "metadata": {},
   "source": [
    "## Conjuntos ##\n"
   ]
  },
  {
   "cell_type": "markdown",
   "id": "e753f73d-e263-4b6d-9ef2-3061ec650536",
   "metadata": {},
   "source": [
    "Son una estructura sin orden, en donde no se pueden repetir sus elementos."
   ]
  },
  {
   "cell_type": "markdown",
   "id": "e21c2ac4-f97e-4573-b6c1-7f66284c2b55",
   "metadata": {},
   "source": [
    "Se escriben entre **{ }**"
   ]
  },
  {
   "cell_type": "code",
   "execution_count": 5,
   "id": "544b3822-f06a-419e-add1-b2e58905f6b6",
   "metadata": {},
   "outputs": [
    {
     "data": {
      "text/plain": [
       "{1, 2, 3, 4, 'perro'}"
      ]
     },
     "execution_count": 5,
     "metadata": {},
     "output_type": "execute_result"
    }
   ],
   "source": [
    "co = {1,2,3,4,4,4,4,\"perro\"}\n",
    "co"
   ]
  },
  {
   "cell_type": "code",
   "execution_count": 6,
   "id": "64f16977-1ba7-49ad-a45e-14e7ddc5017a",
   "metadata": {},
   "outputs": [
    {
     "data": {
      "text/plain": [
       "set"
      ]
     },
     "execution_count": 6,
     "metadata": {},
     "output_type": "execute_result"
    }
   ],
   "source": [
    "type(co)"
   ]
  }
 ],
 "metadata": {
  "kernelspec": {
   "display_name": "Python 3 (ipykernel)",
   "language": "python",
   "name": "python3"
  },
  "language_info": {
   "codemirror_mode": {
    "name": "ipython",
    "version": 3
   },
   "file_extension": ".py",
   "mimetype": "text/x-python",
   "name": "python",
   "nbconvert_exporter": "python",
   "pygments_lexer": "ipython3",
   "version": "3.8.12"
  }
 },
 "nbformat": 4,
 "nbformat_minor": 5
}
