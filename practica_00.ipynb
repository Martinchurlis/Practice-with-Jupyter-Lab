{
 "cells": [
  {
   "cell_type": "markdown",
   "id": "3753ab17-f315-476a-abbd-5df71564b2bb",
   "metadata": {},
   "source": [
    "# Título"
   ]
  },
  {
   "cell_type": "markdown",
   "id": "8ce41238-9308-4167-9964-8a79292b8ac2",
   "metadata": {},
   "source": [
    "Para escribir un titulo grande tenemos que tener la celda en \"markdown\" y escribir # antes del título, hay que dejar un espacio entre medio."
   ]
  },
  {
   "cell_type": "markdown",
   "id": "ac0429da-254f-4740-a51a-d22fb8caa972",
   "metadata": {},
   "source": [
    "## Título más pequeño"
   ]
  },
  {
   "cell_type": "markdown",
   "id": "88ad66ac-bc2f-4d56-924a-68657db34c16",
   "metadata": {},
   "source": [
    "Para escribir un Título un poco más pequeño basta con poner ## antes del título."
   ]
  },
  {
   "cell_type": "markdown",
   "id": "03b3a951-2342-4e62-aab0-982212ef02c8",
   "metadata": {},
   "source": [
    "Para escribir texto basta con tener en modo \"markdown\" y si queremos escribir en cursiva hay que poner *palabra* entre \"*\""
   ]
  },
  {
   "cell_type": "markdown",
   "id": "62a9afa5-c778-448f-9b99-4c4ed5c6d393",
   "metadata": {},
   "source": [
    "Para escribir texto en negrita hay que poner **palabra** entre \"**\""
   ]
  },
  {
   "cell_type": "markdown",
   "id": "b155c962-b5b9-46cc-9d0b-c4f9c6058551",
   "metadata": {},
   "source": [
    "Para ejecutar una celda puedo apretar \"**control + enter\""
   ]
  },
  {
   "cell_type": "markdown",
   "id": "a30634a9-73d3-439f-b092-c9fa90b4e043",
   "metadata": {},
   "source": [
    "Para agregar una nueva celda arriba, sin tener seleccionada la celda apretar \"A\". Para agregar una celda abajo \"B\"."
   ]
  },
  {
   "cell_type": "markdown",
   "id": "c2afa8ca-fcdd-4f20-baa8-434c0f3aebed",
   "metadata": {},
   "source": [
    "Para rehacer algo borrado o volver \"**ctrl+z**\" (se puede hacer apretando solo Z, cuidado con apretar X que corta las celdas)"
   ]
  },
  {
   "cell_type": "markdown",
   "id": "cafe94d2-2779-4d4e-8890-71f9b9896e03",
   "metadata": {},
   "source": [
    "Para pasar una celda directamente a Markdown apretar \"**m**\""
   ]
  },
  {
   "cell_type": "markdown",
   "id": "8df17e9f-b9d3-4816-b678-1afd3f808e01",
   "metadata": {},
   "source": [
    "A continuación designaremos unas variables"
   ]
  },
  {
   "cell_type": "code",
   "execution_count": 3,
   "id": "ae9f218a-6144-4537-b625-c85cc90a301c",
   "metadata": {},
   "outputs": [],
   "source": [
    "uno = 1\n",
    "dos = 2 \n",
    "tres = 3\n",
    "pi = 3.14\n",
    "animal = \"perro\""
   ]
  },
  {
   "cell_type": "code",
   "execution_count": 4,
   "id": "499e1889-c8b1-4a94-be19-26641e0775f0",
   "metadata": {},
   "outputs": [
    {
     "data": {
      "text/plain": [
       "3"
      ]
     },
     "execution_count": 4,
     "metadata": {},
     "output_type": "execute_result"
    }
   ],
   "source": [
    "uno + dos"
   ]
  },
  {
   "cell_type": "code",
   "execution_count": 6,
   "id": "c7bec7c5-5ee2-4fe4-9212-fc148a55c3d6",
   "metadata": {},
   "outputs": [
    {
     "data": {
      "text/plain": [
       "-3"
      ]
     },
     "execution_count": 6,
     "metadata": {},
     "output_type": "execute_result"
    }
   ],
   "source": [
    "(uno - dos)* tres"
   ]
  }
 ],
 "metadata": {
  "kernelspec": {
   "display_name": "Python 3 (ipykernel)",
   "language": "python",
   "name": "python3"
  },
  "language_info": {
   "codemirror_mode": {
    "name": "ipython",
    "version": 3
   },
   "file_extension": ".py",
   "mimetype": "text/x-python",
   "name": "python",
   "nbconvert_exporter": "python",
   "pygments_lexer": "ipython3",
   "version": "3.8.12"
  }
 },
 "nbformat": 4,
 "nbformat_minor": 5
}
