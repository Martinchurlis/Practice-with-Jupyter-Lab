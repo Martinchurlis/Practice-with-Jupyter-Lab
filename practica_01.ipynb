{
 "cells": [
  {
   "cell_type": "markdown",
   "id": "b24993b5-ac8b-4e53-87c8-51760a8d5ef0",
   "metadata": {
    "tags": []
   },
   "source": [
    "## Listas ##"
   ]
  },
  {
   "cell_type": "markdown",
   "id": "ced3a559-6145-4c02-9897-b9146c6a5fbe",
   "metadata": {},
   "source": [
    "Ahora crearemos listas y veremos las operaciones que se pueden realizar. "
   ]
  },
  {
   "cell_type": "markdown",
   "id": "3c530666-1241-4efe-a658-5a74a7981913",
   "metadata": {},
   "source": [
    "Una lista es un conjunto de elementos ordenados, la podemos designar así: lista = [a, b, c, d]\n"
   ]
  },
  {
   "cell_type": "code",
   "execution_count": 1,
   "id": "fc0fecf9-6caa-48b9-832f-f47aff80c219",
   "metadata": {},
   "outputs": [
    {
     "data": {
      "text/plain": [
       "[1, 3.14, 'azul', True]"
      ]
     },
     "execution_count": 1,
     "metadata": {},
     "output_type": "execute_result"
    }
   ],
   "source": [
    "lista = [1, 3.14, \"azul\", True]\n",
    "lista"
   ]
  },
  {
   "cell_type": "code",
   "execution_count": 2,
   "id": "2c0dfebc-7b1a-4663-aeef-567907bff2a7",
   "metadata": {},
   "outputs": [
    {
     "data": {
      "text/plain": [
       "list"
      ]
     },
     "execution_count": 2,
     "metadata": {},
     "output_type": "execute_result"
    }
   ],
   "source": [
    "#Tipo\n",
    "type(lista)"
   ]
  },
  {
   "cell_type": "code",
   "execution_count": 3,
   "id": "bc55167b-45f3-4d02-a3bf-256c282c991d",
   "metadata": {},
   "outputs": [
    {
     "data": {
      "text/plain": [
       "4"
      ]
     },
     "execution_count": 3,
     "metadata": {},
     "output_type": "execute_result"
    }
   ],
   "source": [
    "#Longitud de la lista \n",
    "len(lista)"
   ]
  },
  {
   "cell_type": "code",
   "execution_count": 4,
   "id": "2f644d78-9190-4e66-9d96-f0a8e026c7b8",
   "metadata": {},
   "outputs": [
    {
     "data": {
      "text/plain": [
       "1"
      ]
     },
     "execution_count": 4,
     "metadata": {},
     "output_type": "execute_result"
    }
   ],
   "source": [
    "#Seleccionar elementos de una lista (se parte de cero)\n",
    "lista[0]"
   ]
  },
  {
   "cell_type": "code",
   "execution_count": 5,
   "id": "79b0c3ca-c938-4023-9f1d-96cd6e14f7aa",
   "metadata": {},
   "outputs": [
    {
     "data": {
      "text/plain": [
       "True"
      ]
     },
     "execution_count": 5,
     "metadata": {},
     "output_type": "execute_result"
    }
   ],
   "source": [
    "#Seleccionar el último elemento de una lista\n",
    "lista[-1]"
   ]
  },
  {
   "cell_type": "code",
   "execution_count": 8,
   "id": "1bcc93ac-3367-487e-82e7-c694209b60f5",
   "metadata": {},
   "outputs": [
    {
     "data": {
      "text/plain": [
       "[3.14, 'azul', True]"
      ]
     },
     "execution_count": 8,
     "metadata": {},
     "output_type": "execute_result"
    }
   ],
   "source": [
    "#Seleccionar varios elementos\n",
    "lista[1:4] #El último elemento no se incluye"
   ]
  },
  {
   "cell_type": "code",
   "execution_count": 9,
   "id": "ae423dbd-4721-4183-9464-b78e65acac5f",
   "metadata": {},
   "outputs": [
    {
     "data": {
      "text/plain": [
       "[1, 3.14, 'azul', True]"
      ]
     },
     "execution_count": 9,
     "metadata": {},
     "output_type": "execute_result"
    }
   ],
   "source": [
    "#Seleccionar varios elementos\n",
    "lista[:4] #Se asume que empieza del primer elemento"
   ]
  },
  {
   "cell_type": "code",
   "execution_count": 11,
   "id": "69c1fe93-8cc5-4579-b02d-fb86a82325ab",
   "metadata": {},
   "outputs": [
    {
     "data": {
      "text/plain": [
       "[1, 'casa', 'azul', True]"
      ]
     },
     "execution_count": 11,
     "metadata": {},
     "output_type": "execute_result"
    }
   ],
   "source": [
    "#Modificar elemento de una lista\n",
    "lista[1] = \"casa\"\n",
    "lista"
   ]
  },
  {
   "cell_type": "code",
   "execution_count": 13,
   "id": "b22eed2a-debc-4caf-a88f-b5591c188c3a",
   "metadata": {},
   "outputs": [
    {
     "data": {
      "text/plain": [
       "[1, 'casa', 'azul', True, 'ultimo']"
      ]
     },
     "execution_count": 13,
     "metadata": {},
     "output_type": "execute_result"
    }
   ],
   "source": [
    "#Añadir un nuevo elemento al final de la lista\n",
    "lista.append(\"ultimo\")\n",
    "lista"
   ]
  },
  {
   "cell_type": "markdown",
   "id": "011489f6-1005-464b-b2b1-4b72074a469e",
   "metadata": {},
   "source": [
    "## Tarea ##"
   ]
  },
  {
   "cell_type": "markdown",
   "id": "f3763703-04cd-4c61-907f-d576156fbbf0",
   "metadata": {},
   "source": [
    "1. Crear una lista de 4 elementos que sean números"
   ]
  },
  {
   "cell_type": "code",
   "execution_count": 14,
   "id": "0658a69a-2a75-4c0e-86a8-cb02077994dc",
   "metadata": {},
   "outputs": [
    {
     "data": {
      "text/plain": [
       "[1, 2, 3, 3.14]"
      ]
     },
     "execution_count": 14,
     "metadata": {},
     "output_type": "execute_result"
    }
   ],
   "source": [
    "lista=[1,2,3,3.14]\n",
    "lista"
   ]
  },
  {
   "cell_type": "code",
   "execution_count": 16,
   "id": "66df9b34-003d-4a82-a29c-666df4eee795",
   "metadata": {},
   "outputs": [
    {
     "data": {
      "text/plain": [
       "['arbol', 'casa', 'perro']"
      ]
     },
     "execution_count": 16,
     "metadata": {},
     "output_type": "execute_result"
    }
   ],
   "source": [
    "lista2=[\"arbol\",\"casa\",\"perro\"]\n",
    "lista2"
   ]
  },
  {
   "cell_type": "code",
   "execution_count": 18,
   "id": "f09ff4d2-d9d2-42ac-a726-dd353bf89b47",
   "metadata": {},
   "outputs": [
    {
     "data": {
      "text/plain": [
       "2"
      ]
     },
     "execution_count": 18,
     "metadata": {},
     "output_type": "execute_result"
    }
   ],
   "source": [
    "lista3=[0,1,2,3]\n",
    "lista3[2]"
   ]
  }
 ],
 "metadata": {
  "kernelspec": {
   "display_name": "Python 3 (ipykernel)",
   "language": "python",
   "name": "python3"
  },
  "language_info": {
   "codemirror_mode": {
    "name": "ipython",
    "version": 3
   },
   "file_extension": ".py",
   "mimetype": "text/x-python",
   "name": "python",
   "nbconvert_exporter": "python",
   "pygments_lexer": "ipython3",
   "version": "3.8.12"
  }
 },
 "nbformat": 4,
 "nbformat_minor": 5
}
