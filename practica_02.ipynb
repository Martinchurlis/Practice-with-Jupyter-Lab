{
 "cells": [
  {
   "cell_type": "markdown",
   "id": "077733e1-10b5-45e0-9491-2a143acc30f6",
   "metadata": {},
   "source": [
    "## Diccionarios ##"
   ]
  },
  {
   "cell_type": "markdown",
   "id": "c1d22efb-873e-40df-8c61-00e2aa93323c",
   "metadata": {},
   "source": [
    "Los diccionarios son un conjunto de elementos NO ordenados (no seleccionamos por posición, sino por key)"
   ]
  },
  {
   "cell_type": "markdown",
   "id": "1ea7f5da-5143-4e04-af1e-3912683a2966",
   "metadata": {},
   "source": [
    "Se escriben entre { }"
   ]
  },
  {
   "cell_type": "code",
   "execution_count": 2,
   "id": "3fa7529e-769e-41f9-83ad-0d5588d975d7",
   "metadata": {},
   "outputs": [
    {
     "data": {
      "text/plain": [
       "{'Nombre': 'Martín',\n",
       " 'Edad': 25,\n",
       " 'Mascotas': ['Loro', 'Perro', 'Gato'],\n",
       " 'Dinero': False}"
      ]
     },
     "execution_count": 2,
     "metadata": {},
     "output_type": "execute_result"
    }
   ],
   "source": [
    "dic={\"Nombre\":\"Martín\",\"Edad\":25,\"Mascotas\":[\"Loro\",\"Perro\",\"Gato\"],\"Dinero\":False}\n",
    "dic"
   ]
  },
  {
   "cell_type": "code",
   "execution_count": 5,
   "id": "e7ed7b74-6cce-4c67-8a0f-9c846ed2c8de",
   "metadata": {},
   "outputs": [
    {
     "data": {
      "text/plain": [
       "25"
      ]
     },
     "execution_count": 5,
     "metadata": {},
     "output_type": "execute_result"
    }
   ],
   "source": [
    "#Acceder a un elemento del Diccionario\n",
    "dic[\"Edad\"]"
   ]
  },
  {
   "cell_type": "code",
   "execution_count": 8,
   "id": "fb1f54d2-472d-481f-8c03-94e3394d21f4",
   "metadata": {},
   "outputs": [
    {
     "data": {
      "text/plain": [
       "'Loro'"
      ]
     },
     "execution_count": 8,
     "metadata": {},
     "output_type": "execute_result"
    }
   ],
   "source": [
    "#Acceder a un elemento de la lista dentro del diccionario\n",
    "dic[\"Mascotas\"][0]"
   ]
  },
  {
   "cell_type": "code",
   "execution_count": 10,
   "id": "c0e3ab37-4bcd-4cda-b860-731533fcdfe3",
   "metadata": {},
   "outputs": [
    {
     "data": {
      "text/plain": [
       "dict_keys(['Nombre', 'Edad', 'Mascotas', 'Dinero'])"
      ]
     },
     "execution_count": 10,
     "metadata": {},
     "output_type": "execute_result"
    }
   ],
   "source": [
    "#Obtener las claves del diccionario\n",
    "dic.keys()"
   ]
  },
  {
   "cell_type": "code",
   "execution_count": 12,
   "id": "e271e72c-c77a-4251-b66d-25daab93a884",
   "metadata": {},
   "outputs": [
    {
     "data": {
      "text/plain": [
       "dict_values(['Martín', 25, ['Loro', 'Perro', 'Gato'], False])"
      ]
     },
     "execution_count": 12,
     "metadata": {},
     "output_type": "execute_result"
    }
   ],
   "source": [
    "#Obtener los valores del diccionario\n",
    "dic.values()"
   ]
  },
  {
   "cell_type": "code",
   "execution_count": 16,
   "id": "bbc9521d-8ba4-4959-863e-fdaf85cad862",
   "metadata": {},
   "outputs": [
    {
     "data": {
      "text/plain": [
       "{'Nombre': 'Martín',\n",
       " 'Edad': 25,\n",
       " 'Mascotas': ['Tortuga', 'Perro', 'Gato'],\n",
       " 'Dinero': False}"
      ]
     },
     "execution_count": 16,
     "metadata": {},
     "output_type": "execute_result"
    }
   ],
   "source": [
    "#Modificar elemento del diccionario\n",
    "dic[\"Mascotas\"][0]= \"Tortuga\"\n",
    "dic"
   ]
  },
  {
   "cell_type": "code",
   "execution_count": 18,
   "id": "44cd022c-a3e9-4b83-aeca-5889c4d50a1a",
   "metadata": {},
   "outputs": [
    {
     "data": {
      "text/plain": [
       "['Tortuga', 'Perro', 'Gato', 'Loro', 'Loro']"
      ]
     },
     "execution_count": 18,
     "metadata": {},
     "output_type": "execute_result"
    }
   ],
   "source": [
    "#Agregar un elemento a la lista del diccionario\n",
    "\n",
    "dic[\"Mascotas\"].append(\"Loro\")\n",
    "dic[\"Mascotas\"]"
   ]
  },
  {
   "cell_type": "markdown",
   "id": "94411ea9-26c8-40ad-b9ea-8df731720677",
   "metadata": {},
   "source": [
    "## Tarea ##\n"
   ]
  },
  {
   "cell_type": "markdown",
   "id": "80fbd423-bfcc-4503-adc5-bccd27741c3a",
   "metadata": {},
   "source": [
    "1. Crear un código que contenga 3 elementos"
   ]
  },
  {
   "cell_type": "code",
   "execution_count": 20,
   "id": "b7fbcba3-a58d-4d67-9871-b535690511d0",
   "metadata": {},
   "outputs": [
    {
     "data": {
      "text/plain": [
       "{'cero': 0, 'buen dia': 'hola', 'lista': [0, 1, 2, 3]}"
      ]
     },
     "execution_count": 20,
     "metadata": {},
     "output_type": "execute_result"
    }
   ],
   "source": [
    "dic={\"cero\":0,\"buen dia\":\"hola\",\"lista\":[0,1,2,3]}\n",
    "dic"
   ]
  },
  {
   "cell_type": "markdown",
   "id": "cac55df2-7d3d-44a2-b8ea-a6e59f60610d",
   "metadata": {},
   "source": [
    "2. Crear un diccionario que contenga 2 elementos y escribir un código que e permita seleccionar el primer elemento"
   ]
  },
  {
   "cell_type": "code",
   "execution_count": 22,
   "id": "ca868d4f-cd59-4eb5-9731-ea9668cdbeee",
   "metadata": {},
   "outputs": [
    {
     "data": {
      "text/plain": [
       "'Buen dia'"
      ]
     },
     "execution_count": 22,
     "metadata": {},
     "output_type": "execute_result"
    }
   ],
   "source": [
    "dic2 = {\"primero\":\"Buen dia\",\"segundo\":\"River\"}\n",
    "dic2[\"primero\"]"
   ]
  }
 ],
 "metadata": {
  "kernelspec": {
   "display_name": "Python 3 (ipykernel)",
   "language": "python",
   "name": "python3"
  },
  "language_info": {
   "codemirror_mode": {
    "name": "ipython",
    "version": 3
   },
   "file_extension": ".py",
   "mimetype": "text/x-python",
   "name": "python",
   "nbconvert_exporter": "python",
   "pygments_lexer": "ipython3",
   "version": "3.8.12"
  }
 },
 "nbformat": 4,
 "nbformat_minor": 5
}
